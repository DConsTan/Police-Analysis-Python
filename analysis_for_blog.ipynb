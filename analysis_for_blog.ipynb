{
 "cells": [
  {
   "cell_type": "markdown",
   "metadata": {
    "ExecuteTime": {
     "end_time": "2017-10-14T08:36:07.291413Z",
     "start_time": "2017-10-14T08:36:07.287411Z"
    }
   },
   "source": [
    "# Project Setup"
   ]
  },
  {
   "cell_type": "code",
   "execution_count": 30,
   "metadata": {
    "ExecuteTime": {
     "end_time": "2017-10-17T05:28:37.439194Z",
     "start_time": "2017-10-17T05:28:37.364814Z"
    }
   },
   "outputs": [
    {
     "data": {
      "text/html": [
       "<script>requirejs.config({paths: { 'plotly': ['https://cdn.plot.ly/plotly-latest.min']},});if(!window.Plotly) {{require(['plotly'],function(plotly) {window.Plotly=plotly;});}}</script>"
      ],
      "text/vnd.plotly.v1+html": [
       "<script>requirejs.config({paths: { 'plotly': ['https://cdn.plot.ly/plotly-latest.min']},});if(!window.Plotly) {{require(['plotly'],function(plotly) {window.Plotly=plotly;});}}</script>"
      ]
     },
     "metadata": {},
     "output_type": "display_data"
    }
   ],
   "source": [
    "import urllib.request\n",
    "import ast\n",
    "import pandas as pd\n",
    "import numpy as np\n",
    "import matplotlib.pyplot as plt\n",
    "%matplotlib inline\n",
    "\n",
    "import plotly.offline as py\n",
    "import plotly.graph_objs as go\n",
    "import plotly.figure_factory as ff\n",
    "py.init_notebook_mode(connected=True)"
   ]
  },
  {
   "cell_type": "markdown",
   "metadata": {
    "ExecuteTime": {
     "end_time": "2017-10-14T08:36:02.997369Z",
     "start_time": "2017-10-14T08:36:02.991434Z"
    }
   },
   "source": [
    "# Dataset Exploration"
   ]
  },
  {
   "cell_type": "code",
   "execution_count": 7,
   "metadata": {
    "ExecuteTime": {
     "end_time": "2017-10-17T05:13:11.487260Z",
     "start_time": "2017-10-17T05:13:08.902029Z"
    }
   },
   "outputs": [],
   "source": [
    "df_vt = pd.read_csv('./data/VT-clean.csv.gz', compression='gzip', low_memory=False)"
   ]
  },
  {
   "cell_type": "code",
   "execution_count": 8,
   "metadata": {
    "ExecuteTime": {
     "end_time": "2017-10-17T05:13:11.590525Z",
     "start_time": "2017-10-17T05:13:11.494861Z"
    }
   },
   "outputs": [
    {
     "data": {
      "text/html": [
       "<div>\n",
       "<style>\n",
       "    .dataframe thead tr:only-child th {\n",
       "        text-align: right;\n",
       "    }\n",
       "\n",
       "    .dataframe thead th {\n",
       "        text-align: left;\n",
       "    }\n",
       "\n",
       "    .dataframe tbody tr th {\n",
       "        vertical-align: top;\n",
       "    }\n",
       "</style>\n",
       "<table border=\"1\" class=\"dataframe\">\n",
       "  <thead>\n",
       "    <tr style=\"text-align: right;\">\n",
       "      <th></th>\n",
       "      <th>id</th>\n",
       "      <th>state</th>\n",
       "      <th>stop_date</th>\n",
       "      <th>stop_time</th>\n",
       "      <th>location_raw</th>\n",
       "      <th>county_name</th>\n",
       "      <th>county_fips</th>\n",
       "      <th>fine_grained_location</th>\n",
       "      <th>police_department</th>\n",
       "      <th>driver_gender</th>\n",
       "      <th>...</th>\n",
       "      <th>driver_race</th>\n",
       "      <th>violation_raw</th>\n",
       "      <th>violation</th>\n",
       "      <th>search_conducted</th>\n",
       "      <th>search_type_raw</th>\n",
       "      <th>search_type</th>\n",
       "      <th>contraband_found</th>\n",
       "      <th>stop_outcome</th>\n",
       "      <th>is_arrested</th>\n",
       "      <th>officer_id</th>\n",
       "    </tr>\n",
       "  </thead>\n",
       "  <tbody>\n",
       "    <tr>\n",
       "      <th>0</th>\n",
       "      <td>VT-2010-00001</td>\n",
       "      <td>VT</td>\n",
       "      <td>2010-07-01</td>\n",
       "      <td>00:10</td>\n",
       "      <td>East Montpelier</td>\n",
       "      <td>Washington County</td>\n",
       "      <td>50023.0</td>\n",
       "      <td>COUNTY RD</td>\n",
       "      <td>MIDDLESEX VSP</td>\n",
       "      <td>M</td>\n",
       "      <td>...</td>\n",
       "      <td>White</td>\n",
       "      <td>Moving Violation</td>\n",
       "      <td>Moving violation</td>\n",
       "      <td>False</td>\n",
       "      <td>No Search Conducted</td>\n",
       "      <td>NaN</td>\n",
       "      <td>False</td>\n",
       "      <td>Citation</td>\n",
       "      <td>False</td>\n",
       "      <td>-1.562157e+09</td>\n",
       "    </tr>\n",
       "    <tr>\n",
       "      <th>1</th>\n",
       "      <td>VT-2010-00002</td>\n",
       "      <td>VT</td>\n",
       "      <td>2010-07-01</td>\n",
       "      <td>00:10</td>\n",
       "      <td>NaN</td>\n",
       "      <td>NaN</td>\n",
       "      <td>NaN</td>\n",
       "      <td>COUNTY RD; Fitch Road</td>\n",
       "      <td>MIDDLESEX VSP</td>\n",
       "      <td>F</td>\n",
       "      <td>...</td>\n",
       "      <td>White</td>\n",
       "      <td>Externally Generated Stop</td>\n",
       "      <td>Other</td>\n",
       "      <td>False</td>\n",
       "      <td>No Search Conducted</td>\n",
       "      <td>NaN</td>\n",
       "      <td>False</td>\n",
       "      <td>Arrest for Violation</td>\n",
       "      <td>True</td>\n",
       "      <td>-1.562157e+09</td>\n",
       "    </tr>\n",
       "    <tr>\n",
       "      <th>2</th>\n",
       "      <td>VT-2010-00003</td>\n",
       "      <td>VT</td>\n",
       "      <td>2010-07-01</td>\n",
       "      <td>00:10</td>\n",
       "      <td>NaN</td>\n",
       "      <td>NaN</td>\n",
       "      <td>NaN</td>\n",
       "      <td>COUNTY RD; Fitch Road</td>\n",
       "      <td>MIDDLESEX VSP</td>\n",
       "      <td>F</td>\n",
       "      <td>...</td>\n",
       "      <td>White</td>\n",
       "      <td>Externally Generated Stop</td>\n",
       "      <td>Other</td>\n",
       "      <td>False</td>\n",
       "      <td>No Search Conducted</td>\n",
       "      <td>NaN</td>\n",
       "      <td>False</td>\n",
       "      <td>Arrest for Violation</td>\n",
       "      <td>True</td>\n",
       "      <td>-1.562157e+09</td>\n",
       "    </tr>\n",
       "    <tr>\n",
       "      <th>3</th>\n",
       "      <td>VT-2010-00004</td>\n",
       "      <td>VT</td>\n",
       "      <td>2010-07-01</td>\n",
       "      <td>00:11</td>\n",
       "      <td>Whiting</td>\n",
       "      <td>Addison County</td>\n",
       "      <td>50001.0</td>\n",
       "      <td>N MAIN ST</td>\n",
       "      <td>NEW HAVEN VSP</td>\n",
       "      <td>F</td>\n",
       "      <td>...</td>\n",
       "      <td>White</td>\n",
       "      <td>Moving Violation</td>\n",
       "      <td>Moving violation</td>\n",
       "      <td>False</td>\n",
       "      <td>No Search Conducted</td>\n",
       "      <td>NaN</td>\n",
       "      <td>False</td>\n",
       "      <td>Arrest for Violation</td>\n",
       "      <td>True</td>\n",
       "      <td>-3.126844e+08</td>\n",
       "    </tr>\n",
       "    <tr>\n",
       "      <th>4</th>\n",
       "      <td>VT-2010-00005</td>\n",
       "      <td>VT</td>\n",
       "      <td>2010-07-01</td>\n",
       "      <td>00:35</td>\n",
       "      <td>Hardwick</td>\n",
       "      <td>Caledonia County</td>\n",
       "      <td>50005.0</td>\n",
       "      <td>i91 nb mm 62</td>\n",
       "      <td>ROYALTON VSP</td>\n",
       "      <td>M</td>\n",
       "      <td>...</td>\n",
       "      <td>White</td>\n",
       "      <td>Moving Violation</td>\n",
       "      <td>Moving violation</td>\n",
       "      <td>False</td>\n",
       "      <td>No Search Conducted</td>\n",
       "      <td>NaN</td>\n",
       "      <td>False</td>\n",
       "      <td>Written Warning</td>\n",
       "      <td>False</td>\n",
       "      <td>9.225661e+08</td>\n",
       "    </tr>\n",
       "  </tbody>\n",
       "</table>\n",
       "<p>5 rows × 23 columns</p>\n",
       "</div>"
      ],
      "text/plain": [
       "              id state   stop_date stop_time     location_raw  \\\n",
       "0  VT-2010-00001    VT  2010-07-01     00:10  East Montpelier   \n",
       "1  VT-2010-00002    VT  2010-07-01     00:10              NaN   \n",
       "2  VT-2010-00003    VT  2010-07-01     00:10              NaN   \n",
       "3  VT-2010-00004    VT  2010-07-01     00:11          Whiting   \n",
       "4  VT-2010-00005    VT  2010-07-01     00:35         Hardwick   \n",
       "\n",
       "         county_name  county_fips  fine_grained_location police_department  \\\n",
       "0  Washington County      50023.0              COUNTY RD     MIDDLESEX VSP   \n",
       "1                NaN          NaN  COUNTY RD; Fitch Road     MIDDLESEX VSP   \n",
       "2                NaN          NaN  COUNTY RD; Fitch Road     MIDDLESEX VSP   \n",
       "3     Addison County      50001.0              N MAIN ST     NEW HAVEN VSP   \n",
       "4   Caledonia County      50005.0           i91 nb mm 62      ROYALTON VSP   \n",
       "\n",
       "  driver_gender      ...       driver_race              violation_raw  \\\n",
       "0             M      ...             White           Moving Violation   \n",
       "1             F      ...             White  Externally Generated Stop   \n",
       "2             F      ...             White  Externally Generated Stop   \n",
       "3             F      ...             White           Moving Violation   \n",
       "4             M      ...             White           Moving Violation   \n",
       "\n",
       "          violation search_conducted      search_type_raw search_type  \\\n",
       "0  Moving violation            False  No Search Conducted         NaN   \n",
       "1             Other            False  No Search Conducted         NaN   \n",
       "2             Other            False  No Search Conducted         NaN   \n",
       "3  Moving violation            False  No Search Conducted         NaN   \n",
       "4  Moving violation            False  No Search Conducted         NaN   \n",
       "\n",
       "   contraband_found          stop_outcome is_arrested    officer_id  \n",
       "0             False              Citation       False -1.562157e+09  \n",
       "1             False  Arrest for Violation        True -1.562157e+09  \n",
       "2             False  Arrest for Violation        True -1.562157e+09  \n",
       "3             False  Arrest for Violation        True -3.126844e+08  \n",
       "4             False       Written Warning       False  9.225661e+08  \n",
       "\n",
       "[5 rows x 23 columns]"
      ]
     },
     "execution_count": 8,
     "metadata": {},
     "output_type": "execute_result"
    }
   ],
   "source": [
    "df_vt.head()"
   ]
  },
  {
   "cell_type": "code",
   "execution_count": 11,
   "metadata": {
    "ExecuteTime": {
     "end_time": "2017-10-17T05:13:20.479677Z",
     "start_time": "2017-10-17T05:13:20.473545Z"
    }
   },
   "outputs": [
    {
     "data": {
      "text/plain": [
       "Index(['id', 'state', 'stop_date', 'stop_time', 'location_raw', 'county_name',\n",
       "       'county_fips', 'fine_grained_location', 'police_department',\n",
       "       'driver_gender', 'driver_age_raw', 'driver_age', 'driver_race_raw',\n",
       "       'driver_race', 'violation_raw', 'violation', 'search_conducted',\n",
       "       'search_type_raw', 'search_type', 'contraband_found', 'stop_outcome',\n",
       "       'is_arrested', 'officer_id'],\n",
       "      dtype='object')"
      ]
     },
     "execution_count": 11,
     "metadata": {},
     "output_type": "execute_result"
    }
   ],
   "source": [
    "df_vt.columns"
   ]
  },
  {
   "cell_type": "code",
   "execution_count": 56,
   "metadata": {
    "ExecuteTime": {
     "end_time": "2017-10-17T06:19:20.550822Z",
     "start_time": "2017-10-17T06:19:20.463759Z"
    }
   },
   "outputs": [
    {
     "data": {
      "text/plain": [
       "Windham County       38160\n",
       "Windsor County       37096\n",
       "Chittenden County    26571\n",
       "Washington County    25974\n",
       "Orange County        25463\n",
       "Rutland County       23940\n",
       "Addison County       23756\n",
       "Bennington County    22651\n",
       "Franklin County      20184\n",
       "Caledonia County     17177\n",
       "Orleans County       10617\n",
       "Lamoille County       9094\n",
       "Essex County          1359\n",
       "Grand Isle County      538\n",
       "Name: county_name, dtype: int64"
      ]
     },
     "execution_count": 56,
     "metadata": {},
     "output_type": "execute_result"
    }
   ],
   "source": [
    "df_vt['county_name'].value_counts()"
   ]
  },
  {
   "cell_type": "code",
   "execution_count": 44,
   "metadata": {
    "ExecuteTime": {
     "end_time": "2017-10-17T05:35:39.415423Z",
     "start_time": "2017-10-17T05:35:38.766441Z"
    }
   },
   "outputs": [],
   "source": [
    "vermont_geojson_url = 'https://storage.googleapis.com/cdn.patricktriest.com/data/vermont.json'\n",
    "vermont_geojson = urllib.request.urlopen(vermont_geojson_url).read().decode('utf-8')\n",
    "vermont_geojson = ast.literal_eval(vermont_geojson)"
   ]
  },
  {
   "cell_type": "code",
   "execution_count": 17,
   "metadata": {
    "ExecuteTime": {
     "end_time": "2017-10-17T05:18:36.227514Z",
     "start_time": "2017-10-17T05:18:35.647449Z"
    }
   },
   "outputs": [
    {
     "data": {
      "text/html": [
       "<div>\n",
       "<style>\n",
       "    .dataframe thead tr:only-child th {\n",
       "        text-align: right;\n",
       "    }\n",
       "\n",
       "    .dataframe thead th {\n",
       "        text-align: left;\n",
       "    }\n",
       "\n",
       "    .dataframe tbody tr th {\n",
       "        vertical-align: top;\n",
       "    }\n",
       "</style>\n",
       "<table border=\"1\" class=\"dataframe\">\n",
       "  <thead>\n",
       "    <tr style=\"text-align: right;\">\n",
       "      <th></th>\n",
       "      <th>id</th>\n",
       "      <th>state</th>\n",
       "      <th>stop_date</th>\n",
       "      <th>stop_time</th>\n",
       "      <th>location_raw</th>\n",
       "      <th>county_name</th>\n",
       "      <th>county_fips</th>\n",
       "      <th>fine_grained_location</th>\n",
       "      <th>police_department</th>\n",
       "      <th>driver_age_raw</th>\n",
       "      <th>...</th>\n",
       "      <th>driver_race</th>\n",
       "      <th>violation_raw</th>\n",
       "      <th>violation</th>\n",
       "      <th>search_conducted</th>\n",
       "      <th>search_type_raw</th>\n",
       "      <th>search_type</th>\n",
       "      <th>contraband_found</th>\n",
       "      <th>stop_outcome</th>\n",
       "      <th>is_arrested</th>\n",
       "      <th>officer_id</th>\n",
       "    </tr>\n",
       "    <tr>\n",
       "      <th>driver_gender</th>\n",
       "      <th></th>\n",
       "      <th></th>\n",
       "      <th></th>\n",
       "      <th></th>\n",
       "      <th></th>\n",
       "      <th></th>\n",
       "      <th></th>\n",
       "      <th></th>\n",
       "      <th></th>\n",
       "      <th></th>\n",
       "      <th></th>\n",
       "      <th></th>\n",
       "      <th></th>\n",
       "      <th></th>\n",
       "      <th></th>\n",
       "      <th></th>\n",
       "      <th></th>\n",
       "      <th></th>\n",
       "      <th></th>\n",
       "      <th></th>\n",
       "      <th></th>\n",
       "    </tr>\n",
       "  </thead>\n",
       "  <tbody>\n",
       "    <tr>\n",
       "      <th>F</th>\n",
       "      <td>101895</td>\n",
       "      <td>101895</td>\n",
       "      <td>101895</td>\n",
       "      <td>101895</td>\n",
       "      <td>101645</td>\n",
       "      <td>101643</td>\n",
       "      <td>101643</td>\n",
       "      <td>101824</td>\n",
       "      <td>101895</td>\n",
       "      <td>101572</td>\n",
       "      <td>...</td>\n",
       "      <td>100324</td>\n",
       "      <td>101272</td>\n",
       "      <td>101272</td>\n",
       "      <td>101895</td>\n",
       "      <td>101253</td>\n",
       "      <td>684</td>\n",
       "      <td>101883</td>\n",
       "      <td>101214</td>\n",
       "      <td>101895</td>\n",
       "      <td>101889</td>\n",
       "    </tr>\n",
       "    <tr>\n",
       "      <th>M</th>\n",
       "      <td>179678</td>\n",
       "      <td>179678</td>\n",
       "      <td>179678</td>\n",
       "      <td>179678</td>\n",
       "      <td>179243</td>\n",
       "      <td>179234</td>\n",
       "      <td>179234</td>\n",
       "      <td>179404</td>\n",
       "      <td>179678</td>\n",
       "      <td>179098</td>\n",
       "      <td>...</td>\n",
       "      <td>176778</td>\n",
       "      <td>178168</td>\n",
       "      <td>178168</td>\n",
       "      <td>179678</td>\n",
       "      <td>178126</td>\n",
       "      <td>2714</td>\n",
       "      <td>179656</td>\n",
       "      <td>178083</td>\n",
       "      <td>179678</td>\n",
       "      <td>179672</td>\n",
       "    </tr>\n",
       "  </tbody>\n",
       "</table>\n",
       "<p>2 rows × 22 columns</p>\n",
       "</div>"
      ],
      "text/plain": [
       "                   id   state  stop_date  stop_time  location_raw  \\\n",
       "driver_gender                                                       \n",
       "F              101895  101895     101895     101895        101645   \n",
       "M              179678  179678     179678     179678        179243   \n",
       "\n",
       "               county_name  county_fips  fine_grained_location  \\\n",
       "driver_gender                                                    \n",
       "F                   101643       101643                 101824   \n",
       "M                   179234       179234                 179404   \n",
       "\n",
       "               police_department  driver_age_raw     ...      driver_race  \\\n",
       "driver_gender                                        ...                    \n",
       "F                         101895          101572     ...           100324   \n",
       "M                         179678          179098     ...           176778   \n",
       "\n",
       "               violation_raw  violation  search_conducted  search_type_raw  \\\n",
       "driver_gender                                                                \n",
       "F                     101272     101272            101895           101253   \n",
       "M                     178168     178168            179678           178126   \n",
       "\n",
       "               search_type  contraband_found  stop_outcome  is_arrested  \\\n",
       "driver_gender                                                             \n",
       "F                      684            101883        101214       101895   \n",
       "M                     2714            179656        178083       179678   \n",
       "\n",
       "               officer_id  \n",
       "driver_gender              \n",
       "F                  101889  \n",
       "M                  179672  \n",
       "\n",
       "[2 rows x 22 columns]"
      ]
     },
     "execution_count": 17,
     "metadata": {},
     "output_type": "execute_result"
    }
   ],
   "source": [
    "df_vt.groupby('driver_gender').count()"
   ]
  },
  {
   "cell_type": "code",
   "execution_count": 6,
   "metadata": {
    "ExecuteTime": {
     "end_time": "2017-10-15T02:53:57.445767Z",
     "start_time": "2017-10-15T02:53:57.376628Z"
    }
   },
   "outputs": [
    {
     "data": {
      "text/plain": [
       "M    179678\n",
       "F    101895\n",
       "Name: driver_gender, dtype: int64"
      ]
     },
     "execution_count": 6,
     "metadata": {},
     "output_type": "execute_result"
    }
   ],
   "source": [
    "df_vt['driver_gender'].value_counts()"
   ]
  },
  {
   "cell_type": "code",
   "execution_count": 7,
   "metadata": {
    "ExecuteTime": {
     "end_time": "2017-10-15T02:53:57.525048Z",
     "start_time": "2017-10-15T02:53:57.449453Z"
    }
   },
   "outputs": [
    {
     "data": {
      "text/plain": [
       "White       266216\n",
       "Black         5741\n",
       "Asian         3607\n",
       "Hispanic      2625\n",
       "Other          279\n",
       "Name: driver_race, dtype: int64"
      ]
     },
     "execution_count": 7,
     "metadata": {},
     "output_type": "execute_result"
    }
   ],
   "source": [
    "df_vt['driver_race'].value_counts()"
   ]
  },
  {
   "cell_type": "code",
   "execution_count": 10,
   "metadata": {
    "ExecuteTime": {
     "end_time": "2017-10-15T02:55:23.923057Z",
     "start_time": "2017-10-15T02:55:23.550572Z"
    }
   },
   "outputs": [
    {
     "data": {
      "text/plain": [
       "id                       283285\n",
       "state                    283285\n",
       "stop_date                283285\n",
       "stop_time                283285\n",
       "location_raw             282591\n",
       "county_name              282580\n",
       "county_fips              282580\n",
       "fine_grained_location    282938\n",
       "police_department        283285\n",
       "driver_gender            281573\n",
       "driver_age_raw           282114\n",
       "driver_age               281999\n",
       "driver_race_raw          279301\n",
       "driver_race              278468\n",
       "violation_raw            281107\n",
       "violation                281107\n",
       "search_conducted         283285\n",
       "search_type_raw          281045\n",
       "search_type                3419\n",
       "contraband_found         283251\n",
       "stop_outcome             280960\n",
       "is_arrested              283285\n",
       "officer_id               283273\n",
       "dtype: int64"
      ]
     },
     "execution_count": 10,
     "metadata": {},
     "output_type": "execute_result"
    }
   ],
   "source": [
    "df_vt.count()"
   ]
  },
  {
   "cell_type": "markdown",
   "metadata": {},
   "source": [
    "# Clean Data"
   ]
  },
  {
   "cell_type": "code",
   "execution_count": 57,
   "metadata": {
    "ExecuteTime": {
     "end_time": "2017-10-17T06:20:31.211135Z",
     "start_time": "2017-10-17T06:20:29.862044Z"
    }
   },
   "outputs": [],
   "source": [
    "# Drop rows with missing values for important fields\n",
    "df_vt['search_conducted'].dropna(inplace=True)\n",
    "df_vt['contraband_found'].dropna(inplace=True)\n",
    "df_vt['county_name'].dropna(inplace=True)\n",
    "df_vt['driver_age'].dropna(inplace=True)\n",
    "df_vt['driver_race'].dropna(inplace=True)\n",
    "df_vt['driver_gender'].dropna(inplace=True)\n",
    "\n",
    "df_vt['search_type'].fillna('N/A', inplace=True)\n",
    "df_vt.dropna(inplace=True)"
   ]
  },
  {
   "cell_type": "code",
   "execution_count": 58,
   "metadata": {
    "ExecuteTime": {
     "end_time": "2017-10-17T06:20:31.643923Z",
     "start_time": "2017-10-17T06:20:31.215934Z"
    }
   },
   "outputs": [
    {
     "data": {
      "text/plain": [
       "id                       273181\n",
       "state                    273181\n",
       "stop_date                273181\n",
       "stop_time                273181\n",
       "location_raw             273181\n",
       "county_name              273181\n",
       "county_fips              273181\n",
       "fine_grained_location    273181\n",
       "police_department        273181\n",
       "driver_gender            273181\n",
       "driver_age_raw           273181\n",
       "driver_age               273181\n",
       "driver_race_raw          273181\n",
       "driver_race              273181\n",
       "violation_raw            273181\n",
       "violation                273181\n",
       "search_conducted         273181\n",
       "search_type_raw          273181\n",
       "search_type              273181\n",
       "contraband_found         273181\n",
       "stop_outcome             273181\n",
       "is_arrested              273181\n",
       "officer_id               273181\n",
       "dtype: int64"
      ]
     },
     "execution_count": 58,
     "metadata": {},
     "output_type": "execute_result"
    }
   ],
   "source": [
    "df_vt.count()"
   ]
  },
  {
   "cell_type": "markdown",
   "metadata": {},
   "source": [
    "# Analyze Data"
   ]
  },
  {
   "cell_type": "code",
   "execution_count": 31,
   "metadata": {
    "ExecuteTime": {
     "end_time": "2017-10-15T02:59:52.458250Z",
     "start_time": "2017-10-15T02:59:39.295343Z"
    }
   },
   "outputs": [
    {
     "data": {
      "text/plain": [
       "<matplotlib.legend.Legend at 0x10bd318d0>"
      ]
     },
     "execution_count": 31,
     "metadata": {},
     "output_type": "execute_result"
    },
    {
     "data": {
      "image/png": "[encoded data removed]",
      "text/plain": [
       "<matplotlib.figure.Figure at 0x10bd31ef0>"
      ]
     },
     "metadata": {},
     "output_type": "display_data"
    }
   ],
   "source": [
    "fig, ax = plt.subplots()\n",
    "ax.set_xlim(15, 70)\n",
    "for race in df_vt['driver_race'].unique():\n",
    "    s = df_vt[df_vt['driver_race'] == race]['driver_age']\n",
    "    s.plot.kde(ax=ax, label=race)\n",
    "ax.legend()"
   ]
  },
  {
   "cell_type": "code",
   "execution_count": 59,
   "metadata": {
    "ExecuteTime": {
     "end_time": "2017-10-17T06:47:56.744907Z",
     "start_time": "2017-10-17T06:47:56.653690Z"
    }
   },
   "outputs": [],
   "source": [
    "def compute_search_stats(df):\n",
    "    search_conducted = df['search_conducted']\n",
    "    contraband_found = df['contraband_found']\n",
    "    n_stops     = len(search_conducted)\n",
    "    n_searches  = sum(search_conducted)\n",
    "    n_hits      = sum(contraband_found)\n",
    "    \n",
    "    if (n_stops) < 50:\n",
    "        search_rate = None\n",
    "    else:\n",
    "        search_rate = n_searches / n_stops\n",
    "    \n",
    "    if (n_searches) < 5:\n",
    "        hit_rate = None\n",
    "    else:\n",
    "        hit_rate = n_hits / n_searches\n",
    "    \n",
    "    return(pd.DataFrame(data = { \n",
    "        'n_stops': n_stops,\n",
    "        'n_searches': n_searches,\n",
    "        'n_hits': n_hits,\n",
    "        'search_rate': search_rate,\n",
    "        'hit_rate': hit_rate\n",
    "    }, index=[0]))"
   ]
  },
  {
   "cell_type": "code",
   "execution_count": 60,
   "metadata": {
    "ExecuteTime": {
     "end_time": "2017-10-17T06:47:58.400090Z",
     "start_time": "2017-10-17T06:47:57.097095Z"
    }
   },
   "outputs": [
    {
     "data": {
      "text/html": [
       "<div>\n",
       "<style>\n",
       "    .dataframe thead tr:only-child th {\n",
       "        text-align: right;\n",
       "    }\n",
       "\n",
       "    .dataframe thead th {\n",
       "        text-align: left;\n",
       "    }\n",
       "\n",
       "    .dataframe tbody tr th {\n",
       "        vertical-align: top;\n",
       "    }\n",
       "</style>\n",
       "<table border=\"1\" class=\"dataframe\">\n",
       "  <thead>\n",
       "    <tr style=\"text-align: right;\">\n",
       "      <th></th>\n",
       "      <th>hit_rate</th>\n",
       "      <th>n_hits</th>\n",
       "      <th>n_searches</th>\n",
       "      <th>n_stops</th>\n",
       "      <th>search_rate</th>\n",
       "    </tr>\n",
       "  </thead>\n",
       "  <tbody>\n",
       "    <tr>\n",
       "      <th>0</th>\n",
       "      <td>0.796262</td>\n",
       "      <td>2599</td>\n",
       "      <td>3264</td>\n",
       "      <td>273181</td>\n",
       "      <td>0.011948</td>\n",
       "    </tr>\n",
       "  </tbody>\n",
       "</table>\n",
       "</div>"
      ],
      "text/plain": [
       "   hit_rate  n_hits  n_searches  n_stops  search_rate\n",
       "0  0.796262    2599        3264   273181     0.011948"
      ]
     },
     "execution_count": 60,
     "metadata": {},
     "output_type": "execute_result"
    }
   ],
   "source": [
    "compute_search_stats(df_vt)"
   ]
  },
  {
   "cell_type": "code",
   "execution_count": 16,
   "metadata": {
    "ExecuteTime": {
     "end_time": "2017-10-15T02:55:52.783299Z",
     "start_time": "2017-10-15T02:55:51.302464Z"
    }
   },
   "outputs": [
    {
     "data": {
      "text/html": [
       "<div>\n",
       "<style>\n",
       "    .dataframe thead tr:only-child th {\n",
       "        text-align: right;\n",
       "    }\n",
       "\n",
       "    .dataframe thead th {\n",
       "        text-align: left;\n",
       "    }\n",
       "\n",
       "    .dataframe tbody tr th {\n",
       "        vertical-align: top;\n",
       "    }\n",
       "</style>\n",
       "<table border=\"1\" class=\"dataframe\">\n",
       "  <thead>\n",
       "    <tr style=\"text-align: right;\">\n",
       "      <th></th>\n",
       "      <th></th>\n",
       "      <th>hit_rate</th>\n",
       "      <th>n_hits</th>\n",
       "      <th>n_searches</th>\n",
       "      <th>n_stops</th>\n",
       "      <th>search_rate</th>\n",
       "    </tr>\n",
       "    <tr>\n",
       "      <th>driver_gender</th>\n",
       "      <th></th>\n",
       "      <th></th>\n",
       "      <th></th>\n",
       "      <th></th>\n",
       "      <th></th>\n",
       "      <th></th>\n",
       "    </tr>\n",
       "  </thead>\n",
       "  <tbody>\n",
       "    <tr>\n",
       "      <th>F</th>\n",
       "      <th>0</th>\n",
       "      <td>0.788820</td>\n",
       "      <td>508</td>\n",
       "      <td>644</td>\n",
       "      <td>99111</td>\n",
       "      <td>0.006498</td>\n",
       "    </tr>\n",
       "    <tr>\n",
       "      <th>M</th>\n",
       "      <th>0</th>\n",
       "      <td>0.798092</td>\n",
       "      <td>2091</td>\n",
       "      <td>2620</td>\n",
       "      <td>174070</td>\n",
       "      <td>0.015051</td>\n",
       "    </tr>\n",
       "  </tbody>\n",
       "</table>\n",
       "</div>"
      ],
      "text/plain": [
       "                 hit_rate  n_hits  n_searches  n_stops  search_rate\n",
       "driver_gender                                                      \n",
       "F             0  0.788820     508         644    99111     0.006498\n",
       "M             0  0.798092    2091        2620   174070     0.015051"
      ]
     },
     "execution_count": 16,
     "metadata": {},
     "output_type": "execute_result"
    }
   ],
   "source": [
    "df_vt.groupby('driver_gender').apply(compute_search_stats)"
   ]
  },
  {
   "cell_type": "code",
   "execution_count": 17,
   "metadata": {
    "ExecuteTime": {
     "end_time": "2017-10-15T02:55:54.069902Z",
     "start_time": "2017-10-15T02:55:52.786793Z"
    }
   },
   "outputs": [
    {
     "data": {
      "text/html": [
       "<div>\n",
       "<style>\n",
       "    .dataframe thead tr:only-child th {\n",
       "        text-align: right;\n",
       "    }\n",
       "\n",
       "    .dataframe thead th {\n",
       "        text-align: left;\n",
       "    }\n",
       "\n",
       "    .dataframe tbody tr th {\n",
       "        vertical-align: top;\n",
       "    }\n",
       "</style>\n",
       "<table border=\"1\" class=\"dataframe\">\n",
       "  <thead>\n",
       "    <tr style=\"text-align: right;\">\n",
       "      <th></th>\n",
       "      <th></th>\n",
       "      <th>hit_rate</th>\n",
       "      <th>n_hits</th>\n",
       "      <th>n_searches</th>\n",
       "      <th>n_stops</th>\n",
       "      <th>search_rate</th>\n",
       "    </tr>\n",
       "    <tr>\n",
       "      <th>driver_race</th>\n",
       "      <th></th>\n",
       "      <th></th>\n",
       "      <th></th>\n",
       "      <th></th>\n",
       "      <th></th>\n",
       "      <th></th>\n",
       "    </tr>\n",
       "  </thead>\n",
       "  <tbody>\n",
       "    <tr>\n",
       "      <th>Asian</th>\n",
       "      <th>0</th>\n",
       "      <td>0.785714</td>\n",
       "      <td>22</td>\n",
       "      <td>28</td>\n",
       "      <td>3446</td>\n",
       "      <td>0.008125</td>\n",
       "    </tr>\n",
       "    <tr>\n",
       "      <th>Black</th>\n",
       "      <th>0</th>\n",
       "      <td>0.686620</td>\n",
       "      <td>195</td>\n",
       "      <td>284</td>\n",
       "      <td>5571</td>\n",
       "      <td>0.050978</td>\n",
       "    </tr>\n",
       "    <tr>\n",
       "      <th>Hispanic</th>\n",
       "      <th>0</th>\n",
       "      <td>0.644231</td>\n",
       "      <td>67</td>\n",
       "      <td>104</td>\n",
       "      <td>2562</td>\n",
       "      <td>0.040593</td>\n",
       "    </tr>\n",
       "    <tr>\n",
       "      <th>Other</th>\n",
       "      <th>0</th>\n",
       "      <td>0.600000</td>\n",
       "      <td>6</td>\n",
       "      <td>10</td>\n",
       "      <td>263</td>\n",
       "      <td>0.038023</td>\n",
       "    </tr>\n",
       "    <tr>\n",
       "      <th>White</th>\n",
       "      <th>0</th>\n",
       "      <td>0.813601</td>\n",
       "      <td>2309</td>\n",
       "      <td>2838</td>\n",
       "      <td>261339</td>\n",
       "      <td>0.010859</td>\n",
       "    </tr>\n",
       "  </tbody>\n",
       "</table>\n",
       "</div>"
      ],
      "text/plain": [
       "               hit_rate  n_hits  n_searches  n_stops  search_rate\n",
       "driver_race                                                      \n",
       "Asian       0  0.785714      22          28     3446     0.008125\n",
       "Black       0  0.686620     195         284     5571     0.050978\n",
       "Hispanic    0  0.644231      67         104     2562     0.040593\n",
       "Other       0  0.600000       6          10      263     0.038023\n",
       "White       0  0.813601    2309        2838   261339     0.010859"
      ]
     },
     "execution_count": 17,
     "metadata": {},
     "output_type": "execute_result"
    }
   ],
   "source": [
    "df_vt.groupby('driver_race').apply(compute_search_stats)"
   ]
  },
  {
   "cell_type": "code",
   "execution_count": 18,
   "metadata": {
    "ExecuteTime": {
     "end_time": "2017-10-15T02:55:55.352374Z",
     "start_time": "2017-10-15T02:55:54.072592Z"
    }
   },
   "outputs": [
    {
     "data": {
      "text/html": [
       "<div>\n",
       "<style>\n",
       "    .dataframe thead tr:only-child th {\n",
       "        text-align: right;\n",
       "    }\n",
       "\n",
       "    .dataframe thead th {\n",
       "        text-align: left;\n",
       "    }\n",
       "\n",
       "    .dataframe tbody tr th {\n",
       "        vertical-align: top;\n",
       "    }\n",
       "</style>\n",
       "<table border=\"1\" class=\"dataframe\">\n",
       "  <thead>\n",
       "    <tr style=\"text-align: right;\">\n",
       "      <th></th>\n",
       "      <th></th>\n",
       "      <th>hit_rate</th>\n",
       "      <th>n_hits</th>\n",
       "      <th>n_searches</th>\n",
       "      <th>n_stops</th>\n",
       "      <th>search_rate</th>\n",
       "    </tr>\n",
       "    <tr>\n",
       "      <th>driver_age</th>\n",
       "      <th></th>\n",
       "      <th></th>\n",
       "      <th></th>\n",
       "      <th></th>\n",
       "      <th></th>\n",
       "      <th></th>\n",
       "    </tr>\n",
       "  </thead>\n",
       "  <tbody>\n",
       "    <tr>\n",
       "      <th>(15, 20]</th>\n",
       "      <th>0</th>\n",
       "      <td>0.846954</td>\n",
       "      <td>570</td>\n",
       "      <td>673</td>\n",
       "      <td>27443</td>\n",
       "      <td>0.024524</td>\n",
       "    </tr>\n",
       "    <tr>\n",
       "      <th>(20, 25]</th>\n",
       "      <th>0</th>\n",
       "      <td>0.837488</td>\n",
       "      <td>840</td>\n",
       "      <td>1003</td>\n",
       "      <td>43310</td>\n",
       "      <td>0.023159</td>\n",
       "    </tr>\n",
       "    <tr>\n",
       "      <th>(25, 30]</th>\n",
       "      <th>0</th>\n",
       "      <td>0.788800</td>\n",
       "      <td>493</td>\n",
       "      <td>625</td>\n",
       "      <td>34794</td>\n",
       "      <td>0.017963</td>\n",
       "    </tr>\n",
       "    <tr>\n",
       "      <th>(30, 35]</th>\n",
       "      <th>0</th>\n",
       "      <td>0.766756</td>\n",
       "      <td>286</td>\n",
       "      <td>373</td>\n",
       "      <td>27784</td>\n",
       "      <td>0.013425</td>\n",
       "    </tr>\n",
       "    <tr>\n",
       "      <th>(35, 40]</th>\n",
       "      <th>0</th>\n",
       "      <td>0.744186</td>\n",
       "      <td>160</td>\n",
       "      <td>215</td>\n",
       "      <td>23241</td>\n",
       "      <td>0.009251</td>\n",
       "    </tr>\n",
       "    <tr>\n",
       "      <th>(40, 45]</th>\n",
       "      <th>0</th>\n",
       "      <td>0.692913</td>\n",
       "      <td>88</td>\n",
       "      <td>127</td>\n",
       "      <td>24083</td>\n",
       "      <td>0.005273</td>\n",
       "    </tr>\n",
       "    <tr>\n",
       "      <th>(45, 50]</th>\n",
       "      <th>0</th>\n",
       "      <td>0.575472</td>\n",
       "      <td>61</td>\n",
       "      <td>106</td>\n",
       "      <td>24117</td>\n",
       "      <td>0.004395</td>\n",
       "    </tr>\n",
       "    <tr>\n",
       "      <th>(50, 55]</th>\n",
       "      <th>0</th>\n",
       "      <td>0.697368</td>\n",
       "      <td>53</td>\n",
       "      <td>76</td>\n",
       "      <td>22532</td>\n",
       "      <td>0.003373</td>\n",
       "    </tr>\n",
       "    <tr>\n",
       "      <th>(55, 60]</th>\n",
       "      <th>0</th>\n",
       "      <td>0.833333</td>\n",
       "      <td>30</td>\n",
       "      <td>36</td>\n",
       "      <td>17522</td>\n",
       "      <td>0.002055</td>\n",
       "    </tr>\n",
       "    <tr>\n",
       "      <th>(60, 65]</th>\n",
       "      <th>0</th>\n",
       "      <td>0.461538</td>\n",
       "      <td>6</td>\n",
       "      <td>13</td>\n",
       "      <td>12520</td>\n",
       "      <td>0.001038</td>\n",
       "    </tr>\n",
       "  </tbody>\n",
       "</table>\n",
       "</div>"
      ],
      "text/plain": [
       "              hit_rate  n_hits  n_searches  n_stops  search_rate\n",
       "driver_age                                                      \n",
       "(15, 20]   0  0.846954     570         673    27443     0.024524\n",
       "(20, 25]   0  0.837488     840        1003    43310     0.023159\n",
       "(25, 30]   0  0.788800     493         625    34794     0.017963\n",
       "(30, 35]   0  0.766756     286         373    27784     0.013425\n",
       "(35, 40]   0  0.744186     160         215    23241     0.009251\n",
       "(40, 45]   0  0.692913      88         127    24083     0.005273\n",
       "(45, 50]   0  0.575472      61         106    24117     0.004395\n",
       "(50, 55]   0  0.697368      53          76    22532     0.003373\n",
       "(55, 60]   0  0.833333      30          36    17522     0.002055\n",
       "(60, 65]   0  0.461538       6          13    12520     0.001038"
      ]
     },
     "execution_count": 18,
     "metadata": {},
     "output_type": "execute_result"
    }
   ],
   "source": [
    "age_groups = pd.cut(df_vt[\"driver_age\"], np.arange(15, 70, 5))\n",
    "age_aggregation = df_vt.groupby(age_groups).apply(compute_search_stats)\n",
    "age_aggregation"
   ]
  },
  {
   "cell_type": "code",
   "execution_count": 19,
   "metadata": {
    "ExecuteTime": {
     "end_time": "2017-10-15T02:55:55.707029Z",
     "start_time": "2017-10-15T02:55:55.355799Z"
    }
   },
   "outputs": [
    {
     "data": {
      "text/plain": [
       "<matplotlib.axes._subplots.AxesSubplot at 0x10b6227b8>"
      ]
     },
     "execution_count": 19,
     "metadata": {},
     "output_type": "execute_result"
    },
    {
     "data": {
      "image/png": "[encoded data removed]",
      "text/plain": [
       "<matplotlib.figure.Figure at 0x118209710>"
      ]
     },
     "metadata": {},
     "output_type": "display_data"
    }
   ],
   "source": [
    "age_aggregation['hit_rate'].plot.barh()"
   ]
  },
  {
   "cell_type": "code",
   "execution_count": 20,
   "metadata": {
    "ExecuteTime": {
     "end_time": "2017-10-15T02:55:56.074159Z",
     "start_time": "2017-10-15T02:55:55.710117Z"
    }
   },
   "outputs": [
    {
     "data": {
      "text/plain": [
       "<matplotlib.axes._subplots.AxesSubplot at 0x10b6151d0>"
      ]
     },
     "execution_count": 20,
     "metadata": {},
     "output_type": "execute_result"
    },
    {
     "data": {
      "image/png": "[encoded data removed]",
      "text/plain": [
       "<matplotlib.figure.Figure at 0x10b9a0630>"
      ]
     },
     "metadata": {},
     "output_type": "display_data"
    }
   ],
   "source": [
    "age_aggregation['search_rate'].plot.barh()"
   ]
  },
  {
   "cell_type": "code",
   "execution_count": 21,
   "metadata": {
    "ExecuteTime": {
     "end_time": "2017-10-15T02:55:57.284409Z",
     "start_time": "2017-10-15T02:55:56.077845Z"
    }
   },
   "outputs": [],
   "source": [
    "# Compare search rates between races and genders\n",
    "race_gender_agg = df_vt.groupby(['driver_race', 'driver_gender']).apply(compute_search_stats)"
   ]
  },
  {
   "cell_type": "code",
   "execution_count": 22,
   "metadata": {
    "ExecuteTime": {
     "end_time": "2017-10-15T02:55:57.651034Z",
     "start_time": "2017-10-15T02:55:57.287752Z"
    }
   },
   "outputs": [
    {
     "data": {
      "text/plain": [
       "<matplotlib.axes._subplots.AxesSubplot at 0x10b9c6588>"
      ]
     },
     "execution_count": 22,
     "metadata": {},
     "output_type": "execute_result"
    },
    {
     "data": {
      "image/png": "[encoded data removed]",
      "text/plain": [
       "<matplotlib.figure.Figure at 0x1181fdd68>"
      ]
     },
     "metadata": {},
     "output_type": "display_data"
    }
   ],
   "source": [
    "race_gender_agg['hit_rate'].plot.barh()"
   ]
  },
  {
   "cell_type": "code",
   "execution_count": 23,
   "metadata": {
    "ExecuteTime": {
     "end_time": "2017-10-15T02:55:58.017512Z",
     "start_time": "2017-10-15T02:55:57.654805Z"
    }
   },
   "outputs": [
    {
     "data": {
      "text/plain": [
       "<matplotlib.axes._subplots.AxesSubplot at 0x11053e588>"
      ]
     },
     "execution_count": 23,
     "metadata": {},
     "output_type": "execute_result"
    },
    {
     "data": {
      "image/png": "[encoded data removed]",
      "text/plain": [
       "<matplotlib.figure.Figure at 0x1104df4e0>"
      ]
     },
     "metadata": {},
     "output_type": "display_data"
    }
   ],
   "source": [
    "race_gender_agg['search_rate'].plot.barh()"
   ]
  },
  {
   "cell_type": "code",
   "execution_count": 68,
   "metadata": {
    "ExecuteTime": {
     "end_time": "2017-10-17T07:17:53.367828Z",
     "start_time": "2017-10-17T07:17:53.353385Z"
    }
   },
   "outputs": [],
   "source": [
    "def visualize_search_stats_by_county(df):\n",
    "    \"\"\"Generate a scatter plot of search rate vs. hit rate by race and county\"\"\"\n",
    "    race_location_agg = df.groupby(['county_name','driver_race']).apply(compute_search_stats)\n",
    "\n",
    "    fig, ax = plt.subplots()\n",
    "    for c, frame in race_location_agg.groupby('driver_race'):\n",
    "        ax.scatter(x=frame['hit_rate'], y=frame['search_rate'], label=c)\n",
    "    ax.legend(loc='upper center', bbox_to_anchor=(0.5, 1.2),\n",
    "              ncol=5, fancybox=True)\n",
    "    ax.set_xlabel('Hit Rate')\n",
    "    ax.set_ylabel('Search Rate')"
   ]
  },
  {
   "cell_type": "code",
   "execution_count": 62,
   "metadata": {
    "ExecuteTime": {
     "end_time": "2017-10-17T07:13:16.703830Z",
     "start_time": "2017-10-17T07:13:16.618488Z"
    }
   },
   "outputs": [
    {
     "data": {
      "text/html": [
       "<script>requirejs.config({paths: { 'plotly': ['https://cdn.plot.ly/plotly-latest.min']},});if(!window.Plotly) {{require(['plotly'],function(plotly) {window.Plotly=plotly;});}}</script>"
      ],
      "text/vnd.plotly.v1+html": [
       "<script>requirejs.config({paths: { 'plotly': ['https://cdn.plot.ly/plotly-latest.min']},});if(!window.Plotly) {{require(['plotly'],function(plotly) {window.Plotly=plotly;});}}</script>"
      ]
     },
     "metadata": {},
     "output_type": "display_data"
    }
   ],
   "source": [
    "import plotly.offline as py\n",
    "import plotly.graph_objs as go\n",
    "import plotly.figure_factory as ff\n",
    "py.init_notebook_mode(connected=True)\n",
    "\n",
    "def visualize_county_hit_rates(df):\n",
    "    race_location_agg = df.groupby(['county_name','driver_race']).apply(compute_search_stats)\n",
    "    traces = []\n",
    "    \n",
    "    for c, frame in race_location_agg.groupby('driver_race'):\n",
    "        trace = go.Scatter(\n",
    "            x = frame['hit_rate'],\n",
    "            y = frame['search_rate'],\n",
    "            mode = 'markers',\n",
    "            marker = dict( size = 12 ),\n",
    "            name = c,\n",
    "            hoverinfo = 'text',\n",
    "            text= frame.index.get_level_values(0)\n",
    "        )\n",
    "        \n",
    "        traces.append(trace)\n",
    "    \n",
    "    layout = go.Layout(\n",
    "        hovermode = 'closest',\n",
    "        title = 'Search Metrics By County',\n",
    "        xaxis = dict( title='Hit Rate' ),\n",
    "        yaxis = dict( title='Search Rate' )\n",
    "    )    \n",
    "\n",
    "    fig = go.Figure(data= traces, layout = layout)\n",
    "    py.iplot(fig)"
   ]
  },
  {
   "cell_type": "code",
   "execution_count": 230,
   "metadata": {
    "ExecuteTime": {
     "end_time": "2017-10-15T04:12:22.546705Z",
     "start_time": "2017-10-15T04:12:22.497419Z"
    }
   },
   "outputs": [],
   "source": [
    "def compute_white_vs_minority_hit_rate(df):\n",
    "    df_copy = df.copy()\n",
    "    df_copy['is_white'] = df_copy['driver_race'] == 'White'\n",
    "    race_location_agg = df_copy.groupby(['county_name','is_white']).apply(compute_search_stats)\n",
    "    traces = []\n",
    "\n",
    "    for c, frame in race_location_agg.groupby('is_white'):\n",
    "        trace = go.Scatter(\n",
    "            x = frame['hit_rate'],\n",
    "            y = frame['search_rate'],\n",
    "            mode = 'markers',\n",
    "            marker = dict( size = 12 ),\n",
    "            name = ('Not White', 'White')[c],\n",
    "            hoverinfo = 'text',\n",
    "            text= frame.index.get_level_values(0)\n",
    "        )\n",
    "        \n",
    "        traces.append(trace)\n",
    "    \n",
    "    layout = go.Layout(\n",
    "        hovermode = 'closest',\n",
    "        title = 'Search Metrics By County',\n",
    "        xaxis = dict( title='Hit Rate' ),\n",
    "        yaxis = dict( title='Search Rate' )\n",
    "    )    \n",
    "\n",
    "    fig = go.Figure(data= traces, layout = layout)\n",
    "    py.iplot(fig)"
   ]
  },
  {
   "cell_type": "code",
   "execution_count": 69,
   "metadata": {
    "ExecuteTime": {
     "end_time": "2017-10-17T07:18:48.708440Z",
     "start_time": "2017-10-17T07:18:46.531146Z"
    }
   },
   "outputs": [
    {
     "data": {
      "image/png": "[encoded data removed]",
      "text/plain": [
       "<matplotlib.figure.Figure at 0x10a891908>"
      ]
     },
     "metadata": {},
     "output_type": "display_data"
    }
   ],
   "source": [
    "visualize_search_stats_by_county(df_vt)"
   ]
  },
  {
   "cell_type": "code",
   "execution_count": 156,
   "metadata": {
    "ExecuteTime": {
     "end_time": "2017-10-15T03:48:24.428328Z",
     "start_time": "2017-10-15T03:48:22.948481Z"
    }
   },
   "outputs": [
    {
     "name": "stdout",
     "output_type": "stream",
     "text": [
      "False\n",
      "True\n"
     ]
    },
    {
     "data": {
      "application/vnd.plotly.v1+json": {
       "data": [
        {
         "hoverinfo": "text",
         "marker": {
          "size": 12
         },
         "mode": "markers",
         "name": "Not White",
         "text": [
          "Addison County",
          "Bennington County",
          "Caledonia County",
          "Chittenden County",
          "Essex County",
          "Franklin County",
          "Grand Isle County",
          "Lamoille County",
          "Orange County",
          "Orleans County",
          "Rutland County",
          "Washington County",
          "Windham County",
          "Windsor County"
         ],
         "type": "scatter",
         "x": [
          0.6538461538461539,
          0.7714285714285715,
          0.375,
          0.6486486486486487,
          null,
          0.7,
          null,
          0.6363636363636364,
          0.65,
          null,
          0.78125,
          0.5652173913043478,
          null,
          null
         ],
         "y": [
          0.019534184823441023,
          0.039149888143176735,
          0.017582417582417582,
          0.015658061785865426,
          0,
          0.01430615164520744,
          null,
          0.031161473087818695,
          0.01240694789081886,
          0.003215434083601286,
          0.024634334103156273,
          0.012472885032537961,
          0.06502940159114494,
          0.03145424836601307
         ]
        },
        {
         "hoverinfo": "text",
         "marker": {
          "size": 12
         },
         "mode": "markers",
         "name": "White",
         "text": [
          "Addison County",
          "Bennington County",
          "Caledonia County",
          "Chittenden County",
          "Essex County",
          "Franklin County",
          "Grand Isle County",
          "Lamoille County",
          "Orange County",
          "Orleans County",
          "Rutland County",
          "Washington County",
          "Windham County",
          "Windsor County"
         ],
         "type": "scatter",
         "x": [
          0.7891737891737892,
          null,
          0.7978723404255319,
          0.8313725490196079,
          null,
          null,
          0.6,
          null,
          null,
          0.8571428571428571,
          null,
          null,
          null,
          null
         ],
         "y": [
          0.01565217391304348,
          0.013329043526221445,
          0.005778570111268212,
          0.010533707865168539,
          0.0030698388334612432,
          0.010880164228894021,
          0.019342359767891684,
          0.026083972085573733,
          0.007337218565259318,
          0.0013584319813700757,
          0.008745196766927256,
          0.00940737670949026,
          0.016104794578808587,
          0.008745093511891018
         ]
        }
       ],
       "layout": {
        "hovermode": "closest",
        "title": "Search Metrics By County",
        "xaxis": {
         "title": "Hit Rate"
        },
        "yaxis": {
         "title": "Search Rate"
        }
       }
      },
      "text/html": [
       "<div id=\"ddbefb61-e2b8-4cef-b442-fd56eed2337a\" style=\"height: 525px; width: 100%;\" class=\"plotly-graph-div\"></div><script type=\"text/javascript\">require([\"plotly\"], function(Plotly) { window.PLOTLYENV=window.PLOTLYENV || {};window.PLOTLYENV.BASE_URL=\"https://plot.ly\";Plotly.newPlot(\"ddbefb61-e2b8-4cef-b442-fd56eed2337a\", [{\"type\": \"scatter\", \"x\": [0.6538461538461539, 0.7714285714285715, 0.375, 0.6486486486486487, null, 0.7, null, 0.6363636363636364, 0.65, null, 0.78125, 0.5652173913043478, null, null], \"y\": [0.019534184823441023, 0.039149888143176735, 0.017582417582417582, 0.015658061785865426, 0.0, 0.01430615164520744, null, 0.031161473087818695, 0.01240694789081886, 0.003215434083601286, 0.024634334103156273, 0.012472885032537961, 0.06502940159114494, 0.03145424836601307], \"mode\": \"markers\", \"marker\": {\"size\": 12}, \"name\": \"Not White\", \"hoverinfo\": \"text\", \"text\": [\"Addison County\", \"Bennington County\", \"Caledonia County\", \"Chittenden County\", \"Essex County\", \"Franklin County\", \"Grand Isle County\", \"Lamoille County\", \"Orange County\", \"Orleans County\", \"Rutland County\", \"Washington County\", \"Windham County\", \"Windsor County\"]}, {\"type\": \"scatter\", \"x\": [0.7891737891737892, null, 0.7978723404255319, 0.8313725490196079, null, null, 0.6, null, null, 0.8571428571428571, null, null, null, null], \"y\": [0.01565217391304348, 0.013329043526221445, 0.005778570111268212, 0.010533707865168539, 0.0030698388334612432, 0.010880164228894021, 0.019342359767891684, 0.026083972085573733, 0.007337218565259318, 0.0013584319813700757, 0.008745196766927256, 0.00940737670949026, 0.016104794578808587, 0.008745093511891018], \"mode\": \"markers\", \"marker\": {\"size\": 12}, \"name\": \"White\", \"hoverinfo\": \"text\", \"text\": [\"Addison County\", \"Bennington County\", \"Caledonia County\", \"Chittenden County\", \"Essex County\", \"Franklin County\", \"Grand Isle County\", \"Lamoille County\", \"Orange County\", \"Orleans County\", \"Rutland County\", \"Washington County\", \"Windham County\", \"Windsor County\"]}], {\"hovermode\": \"closest\", \"title\": \"Search Metrics By County\", \"xaxis\": {\"title\": \"Hit Rate\"}, \"yaxis\": {\"title\": \"Search Rate\"}}, {\"showLink\": true, \"linkText\": \"Export to plot.ly\"})});</script>"
      ],
      "text/vnd.plotly.v1+html": [
       "<div id=\"ddbefb61-e2b8-4cef-b442-fd56eed2337a\" style=\"height: 525px; width: 100%;\" class=\"plotly-graph-div\"></div><script type=\"text/javascript\">require([\"plotly\"], function(Plotly) { window.PLOTLYENV=window.PLOTLYENV || {};window.PLOTLYENV.BASE_URL=\"https://plot.ly\";Plotly.newPlot(\"ddbefb61-e2b8-4cef-b442-fd56eed2337a\", [{\"type\": \"scatter\", \"x\": [0.6538461538461539, 0.7714285714285715, 0.375, 0.6486486486486487, null, 0.7, null, 0.6363636363636364, 0.65, null, 0.78125, 0.5652173913043478, null, null], \"y\": [0.019534184823441023, 0.039149888143176735, 0.017582417582417582, 0.015658061785865426, 0.0, 0.01430615164520744, null, 0.031161473087818695, 0.01240694789081886, 0.003215434083601286, 0.024634334103156273, 0.012472885032537961, 0.06502940159114494, 0.03145424836601307], \"mode\": \"markers\", \"marker\": {\"size\": 12}, \"name\": \"Not White\", \"hoverinfo\": \"text\", \"text\": [\"Addison County\", \"Bennington County\", \"Caledonia County\", \"Chittenden County\", \"Essex County\", \"Franklin County\", \"Grand Isle County\", \"Lamoille County\", \"Orange County\", \"Orleans County\", \"Rutland County\", \"Washington County\", \"Windham County\", \"Windsor County\"]}, {\"type\": \"scatter\", \"x\": [0.7891737891737892, null, 0.7978723404255319, 0.8313725490196079, null, null, 0.6, null, null, 0.8571428571428571, null, null, null, null], \"y\": [0.01565217391304348, 0.013329043526221445, 0.005778570111268212, 0.010533707865168539, 0.0030698388334612432, 0.010880164228894021, 0.019342359767891684, 0.026083972085573733, 0.007337218565259318, 0.0013584319813700757, 0.008745196766927256, 0.00940737670949026, 0.016104794578808587, 0.008745093511891018], \"mode\": \"markers\", \"marker\": {\"size\": 12}, \"name\": \"White\", \"hoverinfo\": \"text\", \"text\": [\"Addison County\", \"Bennington County\", \"Caledonia County\", \"Chittenden County\", \"Essex County\", \"Franklin County\", \"Grand Isle County\", \"Lamoille County\", \"Orange County\", \"Orleans County\", \"Rutland County\", \"Washington County\", \"Windham County\", \"Windsor County\"]}], {\"hovermode\": \"closest\", \"title\": \"Search Metrics By County\", \"xaxis\": {\"title\": \"Hit Rate\"}, \"yaxis\": {\"title\": \"Search Rate\"}}, {\"showLink\": true, \"linkText\": \"Export to plot.ly\"})});</script>"
      ]
     },
     "metadata": {},
     "output_type": "display_data"
    }
   ],
   "source": [
    "compute_white_vs_minority_hit_rate(df_vt)"
   ]
  },
  {
   "cell_type": "code",
   "execution_count": 122,
   "metadata": {
    "ExecuteTime": {
     "end_time": "2017-10-15T03:32:19.234187Z",
     "start_time": "2017-10-15T03:32:18.027186Z"
    }
   },
   "outputs": [
    {
     "data": {
      "application/vnd.plotly.v1+json": {
       "data": [
        {
         "hoverinfo": "text",
         "marker": {
          "size": 12
         },
         "mode": "markers",
         "name": "Asian",
         "text": [
          "Addison County",
          "Bennington County",
          "Caledonia County",
          "Chittenden County",
          "Essex County",
          "Franklin County",
          "Grand Isle County",
          "Lamoille County",
          "Orange County",
          "Orleans County",
          "Rutland County",
          "Washington County",
          "Windham County",
          "Windsor County"
         ],
         "type": "scatter",
         "x": [
          null,
          null,
          null,
          null,
          null,
          null,
          null,
          null,
          null,
          null,
          null,
          null,
          1,
          null
         ],
         "y": [
          0.0043859649122807015,
          0.005,
          0,
          0.007159904534606206,
          null,
          0.007352941176470588,
          null,
          null,
          0.0029411764705882353,
          0,
          0.015463917525773196,
          0.009852216748768473,
          0.012919896640826873,
          0.005891016200294551
         ]
        },
        {
         "hoverinfo": "text",
         "marker": {
          "size": 12
         },
         "mode": "markers",
         "name": "Black",
         "text": [
          "Addison County",
          "Bennington County",
          "Caledonia County",
          "Chittenden County",
          "Essex County",
          "Franklin County",
          "Grand Isle County",
          "Lamoille County",
          "Orange County",
          "Orleans County",
          "Rutland County",
          "Washington County",
          "Windham County",
          "Windsor County"
         ],
         "type": "scatter",
         "x": [
          0.5625,
          0.7419354838709677,
          null,
          0.6842105263157895,
          null,
          0.7142857142857143,
          null,
          0.5714285714285714,
          0.7272727272727273,
          null,
          0.782608695652174,
          0.7272727272727273,
          null,
          null
         ],
         "y": [
          0.04610951008645533,
          0.07788944723618091,
          0.0049504950495049506,
          0.028528528528528527,
          null,
          0.02280130293159609,
          null,
          0.07777777777777778,
          0.02511415525114155,
          0,
          0.054502369668246446,
          0.018456375838926176,
          0.1015358361774744,
          0.046370967741935484
         ]
        },
        {
         "hoverinfo": "text",
         "marker": {
          "size": 12
         },
         "mode": "markers",
         "name": "Hispanic",
         "text": [
          "Addison County",
          "Bennington County",
          "Caledonia County",
          "Chittenden County",
          "Essex County",
          "Franklin County",
          "Grand Isle County",
          "Lamoille County",
          "Orange County",
          "Orleans County",
          "Rutland County",
          "Washington County",
          "Windham County",
          "Windsor County"
         ],
         "type": "scatter",
         "x": [
          null,
          null,
          null,
          0.5714285714285714,
          null,
          null,
          null,
          null,
          0.5,
          null,
          null,
          0.16666666666666666,
          0.6851851851851852,
          0.6956521739130435
         ],
         "y": [
          0.0055248618784530384,
          0.01020408163265306,
          0.01680672268907563,
          0.028225806451612902,
          null,
          0.009523809523809525,
          null,
          null,
          0.024390243902439025,
          null,
          0,
          0.022304832713754646,
          0.08333333333333333,
          0.05974025974025974
         ]
        },
        {
         "hoverinfo": "text",
         "marker": {
          "size": 12
         },
         "mode": "markers",
         "name": "Other",
         "text": [
          "Addison County",
          "Bennington County",
          "Caledonia County",
          "Chittenden County",
          "Essex County",
          "Franklin County",
          "Lamoille County",
          "Orange County",
          "Orleans County",
          "Rutland County",
          "Washington County",
          "Windham County",
          "Windsor County"
         ],
         "type": "scatter",
         "x": [
          null,
          null,
          null,
          null,
          null,
          null,
          null,
          null,
          null,
          null,
          null,
          null,
          null
         ],
         "y": [
          null,
          null,
          null,
          null,
          null,
          null,
          null,
          null,
          null,
          null,
          0.03225806451612903,
          null,
          null
         ]
        },
        {
         "hoverinfo": "text",
         "marker": {
          "size": 12
         },
         "mode": "markers",
         "name": "White",
         "text": [
          "Addison County",
          "Bennington County",
          "Caledonia County",
          "Chittenden County",
          "Essex County",
          "Franklin County",
          "Grand Isle County",
          "Lamoille County",
          "Orange County",
          "Orleans County",
          "Rutland County",
          "Washington County",
          "Windham County",
          "Windsor County"
         ],
         "type": "scatter",
         "x": [
          0.7891737891737892,
          null,
          0.7978723404255319,
          0.8313725490196079,
          null,
          null,
          0.6,
          null,
          null,
          0.8571428571428571,
          null,
          null,
          null,
          null
         ],
         "y": [
          0.01565217391304348,
          0.013329043526221445,
          0.005778570111268212,
          0.010533707865168539,
          0.0030698388334612432,
          0.010880164228894021,
          0.019342359767891684,
          0.026083972085573733,
          0.007337218565259318,
          0.0013584319813700757,
          0.008745196766927256,
          0.00940737670949026,
          0.016104794578808587,
          0.008745093511891018
         ]
        }
       ],
       "layout": {
        "hovermode": "closest",
        "title": "Search Metrics By County",
        "xaxis": {
         "title": "Hit Rate"
        },
        "yaxis": {
         "title": "Search Rate"
        }
       }
      },
      "text/html": [
       "<div id=\"e959be40-b8f7-45be-b30c-b3f0986fbadc\" style=\"height: 525px; width: 100%;\" class=\"plotly-graph-div\"></div><script type=\"text/javascript\">require([\"plotly\"], function(Plotly) { window.PLOTLYENV=window.PLOTLYENV || {};window.PLOTLYENV.BASE_URL=\"https://plot.ly\";Plotly.newPlot(\"e959be40-b8f7-45be-b30c-b3f0986fbadc\", [{\"type\": \"scatter\", \"x\": [null, null, null, null, null, null, null, null, null, null, null, null, 1.0, null], \"y\": [0.0043859649122807015, 0.005, 0.0, 0.007159904534606206, null, 0.007352941176470588, null, null, 0.0029411764705882353, 0.0, 0.015463917525773196, 0.009852216748768473, 0.012919896640826873, 0.005891016200294551], \"mode\": \"markers\", \"marker\": {\"size\": 12}, \"name\": \"Asian\", \"hoverinfo\": \"text\", \"text\": [\"Addison County\", \"Bennington County\", \"Caledonia County\", \"Chittenden County\", \"Essex County\", \"Franklin County\", \"Grand Isle County\", \"Lamoille County\", \"Orange County\", \"Orleans County\", \"Rutland County\", \"Washington County\", \"Windham County\", \"Windsor County\"]}, {\"type\": \"scatter\", \"x\": [0.5625, 0.7419354838709677, null, 0.6842105263157895, null, 0.7142857142857143, null, 0.5714285714285714, 0.7272727272727273, null, 0.782608695652174, 0.7272727272727273, null, null], \"y\": [0.04610951008645533, 0.07788944723618091, 0.0049504950495049506, 0.028528528528528527, null, 0.02280130293159609, null, 0.07777777777777778, 0.02511415525114155, 0.0, 0.054502369668246446, 0.018456375838926176, 0.1015358361774744, 0.046370967741935484], \"mode\": \"markers\", \"marker\": {\"size\": 12}, \"name\": \"Black\", \"hoverinfo\": \"text\", \"text\": [\"Addison County\", \"Bennington County\", \"Caledonia County\", \"Chittenden County\", \"Essex County\", \"Franklin County\", \"Grand Isle County\", \"Lamoille County\", \"Orange County\", \"Orleans County\", \"Rutland County\", \"Washington County\", \"Windham County\", \"Windsor County\"]}, {\"type\": \"scatter\", \"x\": [null, null, null, 0.5714285714285714, null, null, null, null, 0.5, null, null, 0.16666666666666666, 0.6851851851851852, 0.6956521739130435], \"y\": [0.0055248618784530384, 0.01020408163265306, 0.01680672268907563, 0.028225806451612902, null, 0.009523809523809525, null, null, 0.024390243902439025, null, 0.0, 0.022304832713754646, 0.08333333333333333, 0.05974025974025974], \"mode\": \"markers\", \"marker\": {\"size\": 12}, \"name\": \"Hispanic\", \"hoverinfo\": \"text\", \"text\": [\"Addison County\", \"Bennington County\", \"Caledonia County\", \"Chittenden County\", \"Essex County\", \"Franklin County\", \"Grand Isle County\", \"Lamoille County\", \"Orange County\", \"Orleans County\", \"Rutland County\", \"Washington County\", \"Windham County\", \"Windsor County\"]}, {\"type\": \"scatter\", \"x\": [null, null, null, null, null, null, null, null, null, null, null, null, null], \"y\": [null, null, null, null, null, null, null, null, null, null, 0.03225806451612903, null, null], \"mode\": \"markers\", \"marker\": {\"size\": 12}, \"name\": \"Other\", \"hoverinfo\": \"text\", \"text\": [\"Addison County\", \"Bennington County\", \"Caledonia County\", \"Chittenden County\", \"Essex County\", \"Franklin County\", \"Lamoille County\", \"Orange County\", \"Orleans County\", \"Rutland County\", \"Washington County\", \"Windham County\", \"Windsor County\"]}, {\"type\": \"scatter\", \"x\": [0.7891737891737892, null, 0.7978723404255319, 0.8313725490196079, null, null, 0.6, null, null, 0.8571428571428571, null, null, null, null], \"y\": [0.01565217391304348, 0.013329043526221445, 0.005778570111268212, 0.010533707865168539, 0.0030698388334612432, 0.010880164228894021, 0.019342359767891684, 0.026083972085573733, 0.007337218565259318, 0.0013584319813700757, 0.008745196766927256, 0.00940737670949026, 0.016104794578808587, 0.008745093511891018], \"mode\": \"markers\", \"marker\": {\"size\": 12}, \"name\": \"White\", \"hoverinfo\": \"text\", \"text\": [\"Addison County\", \"Bennington County\", \"Caledonia County\", \"Chittenden County\", \"Essex County\", \"Franklin County\", \"Grand Isle County\", \"Lamoille County\", \"Orange County\", \"Orleans County\", \"Rutland County\", \"Washington County\", \"Windham County\", \"Windsor County\"]}], {\"hovermode\": \"closest\", \"title\": \"Search Metrics By County\", \"xaxis\": {\"title\": \"Hit Rate\"}, \"yaxis\": {\"title\": \"Search Rate\"}}, {\"showLink\": true, \"linkText\": \"Export to plot.ly\"})});</script>"
      ],
      "text/vnd.plotly.v1+html": [
       "<div id=\"e959be40-b8f7-45be-b30c-b3f0986fbadc\" style=\"height: 525px; width: 100%;\" class=\"plotly-graph-div\"></div><script type=\"text/javascript\">require([\"plotly\"], function(Plotly) { window.PLOTLYENV=window.PLOTLYENV || {};window.PLOTLYENV.BASE_URL=\"https://plot.ly\";Plotly.newPlot(\"e959be40-b8f7-45be-b30c-b3f0986fbadc\", [{\"type\": \"scatter\", \"x\": [null, null, null, null, null, null, null, null, null, null, null, null, 1.0, null], \"y\": [0.0043859649122807015, 0.005, 0.0, 0.007159904534606206, null, 0.007352941176470588, null, null, 0.0029411764705882353, 0.0, 0.015463917525773196, 0.009852216748768473, 0.012919896640826873, 0.005891016200294551], \"mode\": \"markers\", \"marker\": {\"size\": 12}, \"name\": \"Asian\", \"hoverinfo\": \"text\", \"text\": [\"Addison County\", \"Bennington County\", \"Caledonia County\", \"Chittenden County\", \"Essex County\", \"Franklin County\", \"Grand Isle County\", \"Lamoille County\", \"Orange County\", \"Orleans County\", \"Rutland County\", \"Washington County\", \"Windham County\", \"Windsor County\"]}, {\"type\": \"scatter\", \"x\": [0.5625, 0.7419354838709677, null, 0.6842105263157895, null, 0.7142857142857143, null, 0.5714285714285714, 0.7272727272727273, null, 0.782608695652174, 0.7272727272727273, null, null], \"y\": [0.04610951008645533, 0.07788944723618091, 0.0049504950495049506, 0.028528528528528527, null, 0.02280130293159609, null, 0.07777777777777778, 0.02511415525114155, 0.0, 0.054502369668246446, 0.018456375838926176, 0.1015358361774744, 0.046370967741935484], \"mode\": \"markers\", \"marker\": {\"size\": 12}, \"name\": \"Black\", \"hoverinfo\": \"text\", \"text\": [\"Addison County\", \"Bennington County\", \"Caledonia County\", \"Chittenden County\", \"Essex County\", \"Franklin County\", \"Grand Isle County\", \"Lamoille County\", \"Orange County\", \"Orleans County\", \"Rutland County\", \"Washington County\", \"Windham County\", \"Windsor County\"]}, {\"type\": \"scatter\", \"x\": [null, null, null, 0.5714285714285714, null, null, null, null, 0.5, null, null, 0.16666666666666666, 0.6851851851851852, 0.6956521739130435], \"y\": [0.0055248618784530384, 0.01020408163265306, 0.01680672268907563, 0.028225806451612902, null, 0.009523809523809525, null, null, 0.024390243902439025, null, 0.0, 0.022304832713754646, 0.08333333333333333, 0.05974025974025974], \"mode\": \"markers\", \"marker\": {\"size\": 12}, \"name\": \"Hispanic\", \"hoverinfo\": \"text\", \"text\": [\"Addison County\", \"Bennington County\", \"Caledonia County\", \"Chittenden County\", \"Essex County\", \"Franklin County\", \"Grand Isle County\", \"Lamoille County\", \"Orange County\", \"Orleans County\", \"Rutland County\", \"Washington County\", \"Windham County\", \"Windsor County\"]}, {\"type\": \"scatter\", \"x\": [null, null, null, null, null, null, null, null, null, null, null, null, null], \"y\": [null, null, null, null, null, null, null, null, null, null, 0.03225806451612903, null, null], \"mode\": \"markers\", \"marker\": {\"size\": 12}, \"name\": \"Other\", \"hoverinfo\": \"text\", \"text\": [\"Addison County\", \"Bennington County\", \"Caledonia County\", \"Chittenden County\", \"Essex County\", \"Franklin County\", \"Lamoille County\", \"Orange County\", \"Orleans County\", \"Rutland County\", \"Washington County\", \"Windham County\", \"Windsor County\"]}, {\"type\": \"scatter\", \"x\": [0.7891737891737892, null, 0.7978723404255319, 0.8313725490196079, null, null, 0.6, null, null, 0.8571428571428571, null, null, null, null], \"y\": [0.01565217391304348, 0.013329043526221445, 0.005778570111268212, 0.010533707865168539, 0.0030698388334612432, 0.010880164228894021, 0.019342359767891684, 0.026083972085573733, 0.007337218565259318, 0.0013584319813700757, 0.008745196766927256, 0.00940737670949026, 0.016104794578808587, 0.008745093511891018], \"mode\": \"markers\", \"marker\": {\"size\": 12}, \"name\": \"White\", \"hoverinfo\": \"text\", \"text\": [\"Addison County\", \"Bennington County\", \"Caledonia County\", \"Chittenden County\", \"Essex County\", \"Franklin County\", \"Grand Isle County\", \"Lamoille County\", \"Orange County\", \"Orleans County\", \"Rutland County\", \"Washington County\", \"Windham County\", \"Windsor County\"]}], {\"hovermode\": \"closest\", \"title\": \"Search Metrics By County\", \"xaxis\": {\"title\": \"Hit Rate\"}, \"yaxis\": {\"title\": \"Search Rate\"}}, {\"showLink\": true, \"linkText\": \"Export to plot.ly\"})});</script>"
      ]
     },
     "metadata": {},
     "output_type": "display_data"
    }
   ],
   "source": [
    "visualize_county_hit_rates(df_vt)"
   ]
  },
  {
   "cell_type": "markdown",
   "metadata": {
    "ExecuteTime": {
     "end_time": "2017-10-14T09:22:04.273768Z",
     "start_time": "2017-10-14T09:22:04.254037Z"
    }
   },
   "source": [
    "# Wisconsin"
   ]
  },
  {
   "cell_type": "code",
   "execution_count": 78,
   "metadata": {
    "ExecuteTime": {
     "end_time": "2017-10-17T07:28:22.246937Z",
     "start_time": "2017-10-17T07:28:22.234796Z"
    }
   },
   "outputs": [],
   "source": [
    "fields = ['county_name', 'driver_race', 'search_conducted', 'contraband_found']"
   ]
  },
  {
   "cell_type": "code",
   "execution_count": 90,
   "metadata": {
    "ExecuteTime": {
     "end_time": "2017-10-17T07:43:34.466692Z",
     "start_time": "2017-10-17T07:43:28.088731Z"
    }
   },
   "outputs": [],
   "source": [
    "df_wi = pd.read_csv('./data/WI-clean.csv.gz', compression='gzip', low_memory=False, usecols=fields)"
   ]
  },
  {
   "cell_type": "code",
   "execution_count": 91,
   "metadata": {
    "ExecuteTime": {
     "end_time": "2017-10-17T07:43:34.947891Z",
     "start_time": "2017-10-17T07:43:34.471110Z"
    },
    "scrolled": true
   },
   "outputs": [],
   "source": [
    "df_wi.dropna(inplace=True)"
   ]
  },
  {
   "cell_type": "code",
   "execution_count": 81,
   "metadata": {
    "ExecuteTime": {
     "end_time": "2017-10-17T07:28:29.149327Z",
     "start_time": "2017-10-17T07:28:29.144871Z"
    }
   },
   "outputs": [],
   "source": [
    "# visualize_county_hit_rates(df_wi)"
   ]
  },
  {
   "cell_type": "code",
   "execution_count": 94,
   "metadata": {
    "ExecuteTime": {
     "end_time": "2017-10-17T07:44:49.707532Z",
     "start_time": "2017-10-17T07:44:46.140104Z"
    }
   },
   "outputs": [
    {
     "data": {
      "text/html": [
       "<div>\n",
       "<style>\n",
       "    .dataframe thead tr:only-child th {\n",
       "        text-align: right;\n",
       "    }\n",
       "\n",
       "    .dataframe thead th {\n",
       "        text-align: left;\n",
       "    }\n",
       "\n",
       "    .dataframe tbody tr th {\n",
       "        vertical-align: top;\n",
       "    }\n",
       "</style>\n",
       "<table border=\"1\" class=\"dataframe\">\n",
       "  <thead>\n",
       "    <tr style=\"text-align: right;\">\n",
       "      <th></th>\n",
       "      <th></th>\n",
       "      <th>hit_rate</th>\n",
       "      <th>n_hits</th>\n",
       "      <th>n_searches</th>\n",
       "      <th>n_stops</th>\n",
       "      <th>search_rate</th>\n",
       "    </tr>\n",
       "    <tr>\n",
       "      <th>driver_race</th>\n",
       "      <th></th>\n",
       "      <th></th>\n",
       "      <th></th>\n",
       "      <th></th>\n",
       "      <th></th>\n",
       "      <th></th>\n",
       "    </tr>\n",
       "  </thead>\n",
       "  <tbody>\n",
       "    <tr>\n",
       "      <th>Asian</th>\n",
       "      <th>0</th>\n",
       "      <td>0.470817</td>\n",
       "      <td>121</td>\n",
       "      <td>257</td>\n",
       "      <td>24577</td>\n",
       "      <td>0.010457</td>\n",
       "    </tr>\n",
       "    <tr>\n",
       "      <th>Black</th>\n",
       "      <th>0</th>\n",
       "      <td>0.477574</td>\n",
       "      <td>1299</td>\n",
       "      <td>2720</td>\n",
       "      <td>56050</td>\n",
       "      <td>0.048528</td>\n",
       "    </tr>\n",
       "    <tr>\n",
       "      <th>Hispanic</th>\n",
       "      <th>0</th>\n",
       "      <td>0.415741</td>\n",
       "      <td>449</td>\n",
       "      <td>1080</td>\n",
       "      <td>35210</td>\n",
       "      <td>0.030673</td>\n",
       "    </tr>\n",
       "    <tr>\n",
       "      <th>Other</th>\n",
       "      <th>0</th>\n",
       "      <td>0.509709</td>\n",
       "      <td>210</td>\n",
       "      <td>412</td>\n",
       "      <td>11361</td>\n",
       "      <td>0.036264</td>\n",
       "    </tr>\n",
       "    <tr>\n",
       "      <th>White</th>\n",
       "      <th>0</th>\n",
       "      <td>0.526300</td>\n",
       "      <td>5103</td>\n",
       "      <td>9696</td>\n",
       "      <td>778227</td>\n",
       "      <td>0.012459</td>\n",
       "    </tr>\n",
       "  </tbody>\n",
       "</table>\n",
       "</div>"
      ],
      "text/plain": [
       "               hit_rate  n_hits  n_searches  n_stops  search_rate\n",
       "driver_race                                                      \n",
       "Asian       0  0.470817     121         257    24577     0.010457\n",
       "Black       0  0.477574    1299        2720    56050     0.048528\n",
       "Hispanic    0  0.415741     449        1080    35210     0.030673\n",
       "Other       0  0.509709     210         412    11361     0.036264\n",
       "White       0  0.526300    5103        9696   778227     0.012459"
      ]
     },
     "execution_count": 94,
     "metadata": {},
     "output_type": "execute_result"
    }
   ],
   "source": [
    "df_wi.groupby('driver_race').apply(compute_search_stats)"
   ]
  },
  {
   "cell_type": "code",
   "execution_count": 82,
   "metadata": {
    "ExecuteTime": {
     "end_time": "2017-10-17T07:28:34.446686Z",
     "start_time": "2017-10-17T07:28:29.152976Z"
    }
   },
   "outputs": [
    {
     "data": {
      "image/png": "[encoded data removed]",
      "text/plain": [
       "<matplotlib.figure.Figure at 0x10ad6a5c0>"
      ]
     },
     "metadata": {},
     "output_type": "display_data"
    }
   ],
   "source": [
    "visualize_search_stats_by_county(df_wi)"
   ]
  },
  {
   "cell_type": "code",
   "execution_count": 92,
   "metadata": {
    "ExecuteTime": {
     "end_time": "2017-10-17T07:44:14.507343Z",
     "start_time": "2017-10-17T07:44:14.504042Z"
    }
   },
   "outputs": [],
   "source": [
    "#compute_white_vs_minority_hit_rate(df_wi)"
   ]
  },
  {
   "cell_type": "markdown",
   "metadata": {
    "ExecuteTime": {
     "end_time": "2017-10-14T09:25:54.323570Z",
     "start_time": "2017-10-14T09:25:38.207Z"
    }
   },
   "source": [
    "# MA"
   ]
  },
  {
   "cell_type": "code",
   "execution_count": 83,
   "metadata": {
    "ExecuteTime": {
     "end_time": "2017-10-17T07:29:13.411314Z",
     "start_time": "2017-10-17T07:28:59.160606Z"
    }
   },
   "outputs": [],
   "source": [
    "df_ma = pd.read_csv('./data/MA-clean.csv.gz', compression='gzip', low_memory=False, usecols=fields)"
   ]
  },
  {
   "cell_type": "code",
   "execution_count": 84,
   "metadata": {
    "ExecuteTime": {
     "end_time": "2017-10-17T07:29:14.526562Z",
     "start_time": "2017-10-17T07:29:13.418060Z"
    }
   },
   "outputs": [],
   "source": [
    "df_ma.dropna(inplace=True)"
   ]
  },
  {
   "cell_type": "code",
   "execution_count": 89,
   "metadata": {
    "ExecuteTime": {
     "end_time": "2017-10-17T07:34:18.151383Z",
     "start_time": "2017-10-17T07:33:47.633233Z"
    }
   },
   "outputs": [
    {
     "data": {
      "text/html": [
       "<div>\n",
       "<style>\n",
       "    .dataframe thead tr:only-child th {\n",
       "        text-align: right;\n",
       "    }\n",
       "\n",
       "    .dataframe thead th {\n",
       "        text-align: left;\n",
       "    }\n",
       "\n",
       "    .dataframe tbody tr th {\n",
       "        vertical-align: top;\n",
       "    }\n",
       "</style>\n",
       "<table border=\"1\" class=\"dataframe\">\n",
       "  <thead>\n",
       "    <tr style=\"text-align: right;\">\n",
       "      <th></th>\n",
       "      <th></th>\n",
       "      <th>hit_rate</th>\n",
       "      <th>n_hits</th>\n",
       "      <th>n_searches</th>\n",
       "      <th>n_stops</th>\n",
       "      <th>search_rate</th>\n",
       "    </tr>\n",
       "    <tr>\n",
       "      <th>driver_race</th>\n",
       "      <th></th>\n",
       "      <th></th>\n",
       "      <th></th>\n",
       "      <th></th>\n",
       "      <th></th>\n",
       "      <th></th>\n",
       "    </tr>\n",
       "  </thead>\n",
       "  <tbody>\n",
       "    <tr>\n",
       "      <th>Asian</th>\n",
       "      <th>0</th>\n",
       "      <td>0.331169</td>\n",
       "      <td>357</td>\n",
       "      <td>1078</td>\n",
       "      <td>101942</td>\n",
       "      <td>0.010575</td>\n",
       "    </tr>\n",
       "    <tr>\n",
       "      <th>Black</th>\n",
       "      <th>0</th>\n",
       "      <td>0.487150</td>\n",
       "      <td>4170</td>\n",
       "      <td>8560</td>\n",
       "      <td>350498</td>\n",
       "      <td>0.024422</td>\n",
       "    </tr>\n",
       "    <tr>\n",
       "      <th>Hispanic</th>\n",
       "      <th>0</th>\n",
       "      <td>0.449502</td>\n",
       "      <td>5007</td>\n",
       "      <td>11139</td>\n",
       "      <td>337782</td>\n",
       "      <td>0.032977</td>\n",
       "    </tr>\n",
       "    <tr>\n",
       "      <th>Other</th>\n",
       "      <th>0</th>\n",
       "      <td>0.358442</td>\n",
       "      <td>276</td>\n",
       "      <td>770</td>\n",
       "      <td>75370</td>\n",
       "      <td>0.010216</td>\n",
       "    </tr>\n",
       "    <tr>\n",
       "      <th>White</th>\n",
       "      <th>0</th>\n",
       "      <td>0.523037</td>\n",
       "      <td>18220</td>\n",
       "      <td>34835</td>\n",
       "      <td>2527393</td>\n",
       "      <td>0.013783</td>\n",
       "    </tr>\n",
       "  </tbody>\n",
       "</table>\n",
       "</div>"
      ],
      "text/plain": [
       "               hit_rate  n_hits  n_searches  n_stops  search_rate\n",
       "driver_race                                                      \n",
       "Asian       0  0.331169     357        1078   101942     0.010575\n",
       "Black       0  0.487150    4170        8560   350498     0.024422\n",
       "Hispanic    0  0.449502    5007       11139   337782     0.032977\n",
       "Other       0  0.358442     276         770    75370     0.010216\n",
       "White       0  0.523037   18220       34835  2527393     0.013783"
      ]
     },
     "execution_count": 89,
     "metadata": {},
     "output_type": "execute_result"
    }
   ],
   "source": [
    "df_ma.groupby('driver_race').apply(compute_search_stats)"
   ]
  },
  {
   "cell_type": "code",
   "execution_count": 85,
   "metadata": {
    "ExecuteTime": {
     "end_time": "2017-10-17T07:29:42.893084Z",
     "start_time": "2017-10-17T07:29:14.531959Z"
    }
   },
   "outputs": [
    {
     "data": {
      "image/png": "[encoded data removed]",
      "text/plain": [
       "<matplotlib.figure.Figure at 0x1094f6f98>"
      ]
     },
     "metadata": {},
     "output_type": "display_data"
    }
   ],
   "source": [
    " "
   ]
  },
  {
   "cell_type": "code",
   "execution_count": 86,
   "metadata": {
    "ExecuteTime": {
     "end_time": "2017-10-17T07:29:42.904861Z",
     "start_time": "2017-10-17T07:29:42.896607Z"
    }
   },
   "outputs": [],
   "source": [
    "# visualize_county_hit_rates(df_ma)"
   ]
  },
  {
   "cell_type": "code",
   "execution_count": 87,
   "metadata": {
    "ExecuteTime": {
     "end_time": "2017-10-17T07:29:42.912231Z",
     "start_time": "2017-10-17T07:29:42.907612Z"
    }
   },
   "outputs": [],
   "source": [
    "# compute_white_vs_minority_hit_rate(df_ma)"
   ]
  },
  {
   "cell_type": "code",
   "execution_count": 233,
   "metadata": {
    "ExecuteTime": {
     "end_time": "2017-10-15T04:15:34.564485Z",
     "start_time": "2017-10-15T04:15:10.053713Z"
    }
   },
   "outputs": [],
   "source": [
    "df_ma_tmp = df_ma.copy()\n",
    "df_ma_tmp['is_white'] = df_ma_tmp['driver_race'] == 'White'\n",
    "race_location_agg = df_ma_tmp.groupby(['county_name','is_white']).apply(compute_hit_rate)"
   ]
  },
  {
   "cell_type": "code",
   "execution_count": 240,
   "metadata": {
    "ExecuteTime": {
     "end_time": "2017-10-15T04:16:34.812647Z",
     "start_time": "2017-10-15T04:16:34.805164Z"
    }
   },
   "outputs": [
    {
     "data": {
      "text/plain": [
       "hit_rate          0.348592\n",
       "n_hits           99.000000\n",
       "n_searches      284.000000\n",
       "n_stops        9750.000000\n",
       "search_rate       0.029128\n",
       "Name: (Barnstable County, False, 0), dtype: float64"
      ]
     },
     "execution_count": 240,
     "metadata": {},
     "output_type": "execute_result"
    }
   ],
   "source": [
    "race_location_agg.iloc[0]"
   ]
  },
  {
   "cell_type": "code",
   "execution_count": 335,
   "metadata": {
    "ExecuteTime": {
     "end_time": "2017-10-15T04:50:31.445775Z",
     "start_time": "2017-10-15T04:50:31.409674Z"
    }
   },
   "outputs": [],
   "source": [
    "def compute_bad_search_rates(df):\n",
    "    \"\"\"Compute what percentage of stops will result in a search where no contraband is found\"\"\"\n",
    "    df_tmp = df.copy()\n",
    "    df_tmp['is_white'] = df_tmp['driver_race'] == 'White'\n",
    "    race_location_agg = df_tmp.groupby(['county_name','is_white']).apply(compute_hit_rate)    \n",
    "    county_dict = {}\n",
    "    for index in range(0, len(race_location_agg), 2):\n",
    "        non_white_row = race_location_agg.iloc[index]\n",
    "        white_row = race_location_agg.iloc[index+1]\n",
    "        county = race_location_agg.iloc[index].name[0]\n",
    "\n",
    "        white_bad_search_rate = (white_row.n_searches - white_row.n_hits) / white_row.n_stops\n",
    "        non_white_bad_search_rate = (non_white_row.n_searches - non_white_row.n_hits) / non_white_row.n_stops\n",
    "\n",
    "        county_dict[county] = dict(\n",
    "            bias = non_white_bad_search_rate/ white_bad_search_rate,\n",
    "            white = white_bad_search_rate,\n",
    "            non_white = non_white_bad_search_rate)\n",
    "    return county_dict"
   ]
  },
  {
   "cell_type": "code",
   "execution_count": 336,
   "metadata": {
    "ExecuteTime": {
     "end_time": "2017-10-15T04:51:00.664270Z",
     "start_time": "2017-10-15T04:50:32.618926Z"
    }
   },
   "outputs": [],
   "source": [
    "ma_county_data = compute_bad_search_rates(df_ma)"
   ]
  },
  {
   "cell_type": "code",
   "execution_count": 339,
   "metadata": {
    "ExecuteTime": {
     "end_time": "2017-10-15T04:51:32.213444Z",
     "start_time": "2017-10-15T04:51:32.196218Z"
    }
   },
   "outputs": [],
   "source": [
    "ma_county_df = pd.DataFrame.from_dict(ma_county_data, orient='index')"
   ]
  },
  {
   "cell_type": "code",
   "execution_count": 342,
   "metadata": {
    "ExecuteTime": {
     "end_time": "2017-10-15T04:52:03.248236Z",
     "start_time": "2017-10-15T04:52:03.232663Z"
    }
   },
   "outputs": [],
   "source": [
    "ma_county_df.to_csv('ma_county_stats.csv')"
   ]
  },
  {
   "cell_type": "code",
   "execution_count": null,
   "metadata": {},
   "outputs": [],
   "source": []
  }
 ],
 "metadata": {
  "kernelspec": {
   "display_name": "Python 3",
   "language": "python",
   "name": "python3"
  },
  "language_info": {
   "codemirror_mode": {
    "name": "ipython",
    "version": 3
   },
   "file_extension": ".py",
   "mimetype": "text/x-python",
   "name": "python",
   "nbconvert_exporter": "python",
   "pygments_lexer": "ipython3",
   "version": "3.6.2"
  },
  "toc": {
   "nav_menu": {},
   "number_sections": true,
   "sideBar": true,
   "skip_h1_title": false,
   "toc_cell": false,
   "toc_position": {},
   "toc_section_display": "block",
   "toc_window_display": false
  }
 },
 "nbformat": 4,
 "nbformat_minor": 2
}
