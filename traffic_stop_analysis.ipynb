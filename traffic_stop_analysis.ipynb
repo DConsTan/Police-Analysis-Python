{
 "cells": [
  {
   "cell_type": "markdown",
   "metadata": {
    "ExecuteTime": {
     "end_time": "2017-10-14T08:36:07.291413Z",
     "start_time": "2017-10-14T08:36:07.287411Z"
    }
   },
   "source": [
    "# Project Setup"
   ]
  },
  {
   "cell_type": "code",
   "execution_count": 1,
   "metadata": {
    "ExecuteTime": {
     "end_time": "2017-10-21T06:08:13.603481Z",
     "start_time": "2017-10-21T06:08:12.251975Z"
    }
   },
   "outputs": [],
   "source": [
    "import urllib.request\n",
    "import ast\n",
    "import pandas as pd\n",
    "import numpy as np\n",
    "import matplotlib.pyplot as plt\n",
    "%matplotlib inline"
   ]
  },
  {
   "cell_type": "markdown",
   "metadata": {
    "ExecuteTime": {
     "end_time": "2017-10-14T08:36:02.997369Z",
     "start_time": "2017-10-14T08:36:02.991434Z"
    }
   },
   "source": [
    "# Dataset Exploration"
   ]
  },
  {
   "cell_type": "markdown",
   "metadata": {
    "ExecuteTime": {
     "end_time": "2017-10-21T06:09:01.732812Z",
     "start_time": "2017-10-21T06:09:01.729495Z"
    }
   },
   "source": [
    "## Load Dataset"
   ]
  },
  {
   "cell_type": "code",
   "execution_count": 2,
   "metadata": {
    "ExecuteTime": {
     "end_time": "2017-10-21T06:08:16.826743Z",
     "start_time": "2017-10-21T06:08:13.607296Z"
    }
   },
   "outputs": [],
   "source": [
    "df_vt = pd.read_csv('./data/VT-clean.csv.gz', compression='gzip', low_memory=False)"
   ]
  },
  {
   "cell_type": "code",
   "execution_count": 3,
   "metadata": {
    "ExecuteTime": {
     "end_time": "2017-10-21T06:08:16.907243Z",
     "start_time": "2017-10-21T06:08:16.831019Z"
    }
   },
   "outputs": [
    {
     "data": {
      "text/html": [
       "<div>\n",
       "<style>\n",
       "    .dataframe thead tr:only-child th {\n",
       "        text-align: right;\n",
       "    }\n",
       "\n",
       "    .dataframe thead th {\n",
       "        text-align: left;\n",
       "    }\n",
       "\n",
       "    .dataframe tbody tr th {\n",
       "        vertical-align: top;\n",
       "    }\n",
       "</style>\n",
       "<table border=\"1\" class=\"dataframe\">\n",
       "  <thead>\n",
       "    <tr style=\"text-align: right;\">\n",
       "      <th></th>\n",
       "      <th>id</th>\n",
       "      <th>state</th>\n",
       "      <th>stop_date</th>\n",
       "      <th>stop_time</th>\n",
       "      <th>location_raw</th>\n",
       "      <th>county_name</th>\n",
       "      <th>county_fips</th>\n",
       "      <th>fine_grained_location</th>\n",
       "      <th>police_department</th>\n",
       "      <th>driver_gender</th>\n",
       "      <th>...</th>\n",
       "      <th>driver_race</th>\n",
       "      <th>violation_raw</th>\n",
       "      <th>violation</th>\n",
       "      <th>search_conducted</th>\n",
       "      <th>search_type_raw</th>\n",
       "      <th>search_type</th>\n",
       "      <th>contraband_found</th>\n",
       "      <th>stop_outcome</th>\n",
       "      <th>is_arrested</th>\n",
       "      <th>officer_id</th>\n",
       "    </tr>\n",
       "  </thead>\n",
       "  <tbody>\n",
       "    <tr>\n",
       "      <th>0</th>\n",
       "      <td>VT-2010-00001</td>\n",
       "      <td>VT</td>\n",
       "      <td>2010-07-01</td>\n",
       "      <td>00:10</td>\n",
       "      <td>East Montpelier</td>\n",
       "      <td>Washington County</td>\n",
       "      <td>50023.0</td>\n",
       "      <td>COUNTY RD</td>\n",
       "      <td>MIDDLESEX VSP</td>\n",
       "      <td>M</td>\n",
       "      <td>...</td>\n",
       "      <td>White</td>\n",
       "      <td>Moving Violation</td>\n",
       "      <td>Moving violation</td>\n",
       "      <td>False</td>\n",
       "      <td>No Search Conducted</td>\n",
       "      <td>NaN</td>\n",
       "      <td>False</td>\n",
       "      <td>Citation</td>\n",
       "      <td>False</td>\n",
       "      <td>-1.562157e+09</td>\n",
       "    </tr>\n",
       "    <tr>\n",
       "      <th>1</th>\n",
       "      <td>VT-2010-00002</td>\n",
       "      <td>VT</td>\n",
       "      <td>2010-07-01</td>\n",
       "      <td>00:10</td>\n",
       "      <td>NaN</td>\n",
       "      <td>NaN</td>\n",
       "      <td>NaN</td>\n",
       "      <td>COUNTY RD; Fitch Road</td>\n",
       "      <td>MIDDLESEX VSP</td>\n",
       "      <td>F</td>\n",
       "      <td>...</td>\n",
       "      <td>White</td>\n",
       "      <td>Externally Generated Stop</td>\n",
       "      <td>Other</td>\n",
       "      <td>False</td>\n",
       "      <td>No Search Conducted</td>\n",
       "      <td>NaN</td>\n",
       "      <td>False</td>\n",
       "      <td>Arrest for Violation</td>\n",
       "      <td>True</td>\n",
       "      <td>-1.562157e+09</td>\n",
       "    </tr>\n",
       "    <tr>\n",
       "      <th>2</th>\n",
       "      <td>VT-2010-00003</td>\n",
       "      <td>VT</td>\n",
       "      <td>2010-07-01</td>\n",
       "      <td>00:10</td>\n",
       "      <td>NaN</td>\n",
       "      <td>NaN</td>\n",
       "      <td>NaN</td>\n",
       "      <td>COUNTY RD; Fitch Road</td>\n",
       "      <td>MIDDLESEX VSP</td>\n",
       "      <td>F</td>\n",
       "      <td>...</td>\n",
       "      <td>White</td>\n",
       "      <td>Externally Generated Stop</td>\n",
       "      <td>Other</td>\n",
       "      <td>False</td>\n",
       "      <td>No Search Conducted</td>\n",
       "      <td>NaN</td>\n",
       "      <td>False</td>\n",
       "      <td>Arrest for Violation</td>\n",
       "      <td>True</td>\n",
       "      <td>-1.562157e+09</td>\n",
       "    </tr>\n",
       "    <tr>\n",
       "      <th>3</th>\n",
       "      <td>VT-2010-00004</td>\n",
       "      <td>VT</td>\n",
       "      <td>2010-07-01</td>\n",
       "      <td>00:11</td>\n",
       "      <td>Whiting</td>\n",
       "      <td>Addison County</td>\n",
       "      <td>50001.0</td>\n",
       "      <td>N MAIN ST</td>\n",
       "      <td>NEW HAVEN VSP</td>\n",
       "      <td>F</td>\n",
       "      <td>...</td>\n",
       "      <td>White</td>\n",
       "      <td>Moving Violation</td>\n",
       "      <td>Moving violation</td>\n",
       "      <td>False</td>\n",
       "      <td>No Search Conducted</td>\n",
       "      <td>NaN</td>\n",
       "      <td>False</td>\n",
       "      <td>Arrest for Violation</td>\n",
       "      <td>True</td>\n",
       "      <td>-3.126844e+08</td>\n",
       "    </tr>\n",
       "    <tr>\n",
       "      <th>4</th>\n",
       "      <td>VT-2010-00005</td>\n",
       "      <td>VT</td>\n",
       "      <td>2010-07-01</td>\n",
       "      <td>00:35</td>\n",
       "      <td>Hardwick</td>\n",
       "      <td>Caledonia County</td>\n",
       "      <td>50005.0</td>\n",
       "      <td>i91 nb mm 62</td>\n",
       "      <td>ROYALTON VSP</td>\n",
       "      <td>M</td>\n",
       "      <td>...</td>\n",
       "      <td>White</td>\n",
       "      <td>Moving Violation</td>\n",
       "      <td>Moving violation</td>\n",
       "      <td>False</td>\n",
       "      <td>No Search Conducted</td>\n",
       "      <td>NaN</td>\n",
       "      <td>False</td>\n",
       "      <td>Written Warning</td>\n",
       "      <td>False</td>\n",
       "      <td>9.225661e+08</td>\n",
       "    </tr>\n",
       "  </tbody>\n",
       "</table>\n",
       "<p>5 rows × 23 columns</p>\n",
       "</div>"
      ],
      "text/plain": [
       "              id state   stop_date stop_time     location_raw  \\\n",
       "0  VT-2010-00001    VT  2010-07-01     00:10  East Montpelier   \n",
       "1  VT-2010-00002    VT  2010-07-01     00:10              NaN   \n",
       "2  VT-2010-00003    VT  2010-07-01     00:10              NaN   \n",
       "3  VT-2010-00004    VT  2010-07-01     00:11          Whiting   \n",
       "4  VT-2010-00005    VT  2010-07-01     00:35         Hardwick   \n",
       "\n",
       "         county_name  county_fips  fine_grained_location police_department  \\\n",
       "0  Washington County      50023.0              COUNTY RD     MIDDLESEX VSP   \n",
       "1                NaN          NaN  COUNTY RD; Fitch Road     MIDDLESEX VSP   \n",
       "2                NaN          NaN  COUNTY RD; Fitch Road     MIDDLESEX VSP   \n",
       "3     Addison County      50001.0              N MAIN ST     NEW HAVEN VSP   \n",
       "4   Caledonia County      50005.0           i91 nb mm 62      ROYALTON VSP   \n",
       "\n",
       "  driver_gender      ...       driver_race              violation_raw  \\\n",
       "0             M      ...             White           Moving Violation   \n",
       "1             F      ...             White  Externally Generated Stop   \n",
       "2             F      ...             White  Externally Generated Stop   \n",
       "3             F      ...             White           Moving Violation   \n",
       "4             M      ...             White           Moving Violation   \n",
       "\n",
       "          violation search_conducted      search_type_raw search_type  \\\n",
       "0  Moving violation            False  No Search Conducted         NaN   \n",
       "1             Other            False  No Search Conducted         NaN   \n",
       "2             Other            False  No Search Conducted         NaN   \n",
       "3  Moving violation            False  No Search Conducted         NaN   \n",
       "4  Moving violation            False  No Search Conducted         NaN   \n",
       "\n",
       "   contraband_found          stop_outcome is_arrested    officer_id  \n",
       "0             False              Citation       False -1.562157e+09  \n",
       "1             False  Arrest for Violation        True -1.562157e+09  \n",
       "2             False  Arrest for Violation        True -1.562157e+09  \n",
       "3             False  Arrest for Violation        True -3.126844e+08  \n",
       "4             False       Written Warning       False  9.225661e+08  \n",
       "\n",
       "[5 rows x 23 columns]"
      ]
     },
     "execution_count": 3,
     "metadata": {},
     "output_type": "execute_result"
    }
   ],
   "source": [
    "df_vt.head()"
   ]
  },
  {
   "cell_type": "code",
   "execution_count": 5,
   "metadata": {
    "ExecuteTime": {
     "end_time": "2017-10-21T06:08:17.298679Z",
     "start_time": "2017-10-21T06:08:17.291698Z"
    }
   },
   "outputs": [
    {
     "data": {
      "text/plain": [
       "Index(['id', 'state', 'stop_date', 'stop_time', 'location_raw', 'county_name',\n",
       "       'county_fips', 'fine_grained_location', 'police_department',\n",
       "       'driver_gender', 'driver_age_raw', 'driver_age', 'driver_race_raw',\n",
       "       'driver_race', 'violation_raw', 'violation', 'search_conducted',\n",
       "       'search_type_raw', 'search_type', 'contraband_found', 'stop_outcome',\n",
       "       'is_arrested', 'officer_id', 'year'],\n",
       "      dtype='object')"
      ]
     },
     "execution_count": 5,
     "metadata": {},
     "output_type": "execute_result"
    }
   ],
   "source": [
    "df_vt.columns"
   ]
  },
  {
   "cell_type": "markdown",
   "metadata": {},
   "source": [
    "## Clean Dataset"
   ]
  },
  {
   "cell_type": "code",
   "execution_count": 6,
   "metadata": {
    "ExecuteTime": {
     "end_time": "2017-10-21T06:08:17.802288Z",
     "start_time": "2017-10-21T06:08:17.301837Z"
    },
    "scrolled": true
   },
   "outputs": [
    {
     "data": {
      "text/plain": [
       "id                       283285\n",
       "state                    283285\n",
       "stop_date                283285\n",
       "stop_time                283285\n",
       "location_raw             282591\n",
       "county_name              282580\n",
       "county_fips              282580\n",
       "fine_grained_location    282938\n",
       "police_department        283285\n",
       "driver_gender            281573\n",
       "driver_age_raw           282114\n",
       "driver_age               281999\n",
       "driver_race_raw          279301\n",
       "driver_race              278468\n",
       "violation_raw            281107\n",
       "violation                281107\n",
       "search_conducted         283285\n",
       "search_type_raw          281045\n",
       "search_type                3419\n",
       "contraband_found         283251\n",
       "stop_outcome             280960\n",
       "is_arrested              283285\n",
       "officer_id               283273\n",
       "year                     283285\n",
       "dtype: int64"
      ]
     },
     "execution_count": 6,
     "metadata": {},
     "output_type": "execute_result"
    }
   ],
   "source": [
    "df_vt.count()"
   ]
  },
  {
   "cell_type": "code",
   "execution_count": 7,
   "metadata": {
    "ExecuteTime": {
     "end_time": "2017-10-21T06:08:18.354894Z",
     "start_time": "2017-10-21T06:08:17.807174Z"
    }
   },
   "outputs": [],
   "source": [
    "# Fill missing search type values with placeholder\n",
    "df_vt['search_type'].fillna('N/A', inplace=True)\n",
    "\n",
    "# Drop rows with missing values\n",
    "df_vt.dropna(inplace=True)"
   ]
  },
  {
   "cell_type": "code",
   "execution_count": 8,
   "metadata": {
    "ExecuteTime": {
     "end_time": "2017-10-21T06:08:18.785897Z",
     "start_time": "2017-10-21T06:08:18.359219Z"
    }
   },
   "outputs": [
    {
     "data": {
      "text/plain": [
       "id                       273181\n",
       "state                    273181\n",
       "stop_date                273181\n",
       "stop_time                273181\n",
       "location_raw             273181\n",
       "county_name              273181\n",
       "county_fips              273181\n",
       "fine_grained_location    273181\n",
       "police_department        273181\n",
       "driver_gender            273181\n",
       "driver_age_raw           273181\n",
       "driver_age               273181\n",
       "driver_race_raw          273181\n",
       "driver_race              273181\n",
       "violation_raw            273181\n",
       "violation                273181\n",
       "search_conducted         273181\n",
       "search_type_raw          273181\n",
       "search_type              273181\n",
       "contraband_found         273181\n",
       "stop_outcome             273181\n",
       "is_arrested              273181\n",
       "officer_id               273181\n",
       "year                     273181\n",
       "dtype: int64"
      ]
     },
     "execution_count": 8,
     "metadata": {},
     "output_type": "execute_result"
    }
   ],
   "source": [
    "df_vt.count()"
   ]
  },
  {
   "cell_type": "markdown",
   "metadata": {
    "ExecuteTime": {
     "end_time": "2017-10-21T06:09:40.177732Z",
     "start_time": "2017-10-21T06:09:40.174020Z"
    }
   },
   "source": [
    "## Explore Data"
   ]
  },
  {
   "cell_type": "code",
   "execution_count": 9,
   "metadata": {
    "ExecuteTime": {
     "end_time": "2017-10-21T06:08:18.874162Z",
     "start_time": "2017-10-21T06:08:18.790172Z"
    }
   },
   "outputs": [
    {
     "data": {
      "text/plain": [
       "Windham County       37715\n",
       "Windsor County       36464\n",
       "Chittenden County    24815\n",
       "Orange County        24679\n",
       "Washington County    24633\n",
       "Rutland County       22885\n",
       "Addison County       22813\n",
       "Bennington County    22250\n",
       "Franklin County      19715\n",
       "Caledonia County     16505\n",
       "Orleans County       10344\n",
       "Lamoille County       8604\n",
       "Essex County          1239\n",
       "Grand Isle County      520\n",
       "Name: county_name, dtype: int64"
      ]
     },
     "execution_count": 9,
     "metadata": {},
     "output_type": "execute_result"
    }
   ],
   "source": [
    "df_vt['county_name'].value_counts()"
   ]
  },
  {
   "cell_type": "code",
   "execution_count": 21,
   "metadata": {
    "ExecuteTime": {
     "end_time": "2017-10-21T06:32:50.868046Z",
     "start_time": "2017-10-21T06:32:50.781161Z"
    }
   },
   "outputs": [
    {
     "data": {
      "text/plain": [
       "Moving violation      212100\n",
       "Equipment              50600\n",
       "Other                   9768\n",
       "DUI                      711\n",
       "Other (non-mapped)         2\n",
       "Name: violation, dtype: int64"
      ]
     },
     "execution_count": 21,
     "metadata": {},
     "output_type": "execute_result"
    }
   ],
   "source": [
    "df_vt['violation'].value_counts()"
   ]
  },
  {
   "cell_type": "code",
   "execution_count": 44,
   "metadata": {
    "ExecuteTime": {
     "end_time": "2017-10-21T06:39:45.027060Z",
     "start_time": "2017-10-21T06:39:44.498343Z"
    }
   },
   "outputs": [
    {
     "data": {
      "text/html": [
       "<div>\n",
       "<style>\n",
       "    .dataframe thead tr:only-child th {\n",
       "        text-align: right;\n",
       "    }\n",
       "\n",
       "    .dataframe thead th {\n",
       "        text-align: left;\n",
       "    }\n",
       "\n",
       "    .dataframe tbody tr th {\n",
       "        vertical-align: top;\n",
       "    }\n",
       "</style>\n",
       "<table border=\"1\" class=\"dataframe\">\n",
       "  <thead>\n",
       "    <tr style=\"text-align: right;\">\n",
       "      <th></th>\n",
       "      <th></th>\n",
       "      <th></th>\n",
       "      <th>arrest_ratio</th>\n",
       "      <th>n_arrests</th>\n",
       "      <th>n_citations</th>\n",
       "      <th>n_total</th>\n",
       "      <th>n_warnings</th>\n",
       "      <th>warning_citation_ratio</th>\n",
       "    </tr>\n",
       "    <tr>\n",
       "      <th>driver_race</th>\n",
       "      <th>violation</th>\n",
       "      <th></th>\n",
       "      <th></th>\n",
       "      <th></th>\n",
       "      <th></th>\n",
       "      <th></th>\n",
       "      <th></th>\n",
       "      <th></th>\n",
       "    </tr>\n",
       "  </thead>\n",
       "  <tbody>\n",
       "    <tr>\n",
       "      <th rowspan=\"4\" valign=\"top\">Asian</th>\n",
       "      <th>DUI</th>\n",
       "      <th>0</th>\n",
       "      <td>0.200000</td>\n",
       "      <td>2</td>\n",
       "      <td>2</td>\n",
       "      <td>10</td>\n",
       "      <td>6</td>\n",
       "      <td>0.333333</td>\n",
       "    </tr>\n",
       "    <tr>\n",
       "      <th>Equipment</th>\n",
       "      <th>0</th>\n",
       "      <td>0.006270</td>\n",
       "      <td>2</td>\n",
       "      <td>37</td>\n",
       "      <td>319</td>\n",
       "      <td>280</td>\n",
       "      <td>0.132143</td>\n",
       "    </tr>\n",
       "    <tr>\n",
       "      <th>Moving violation</th>\n",
       "      <th>0</th>\n",
       "      <td>0.005563</td>\n",
       "      <td>17</td>\n",
       "      <td>1647</td>\n",
       "      <td>3056</td>\n",
       "      <td>1392</td>\n",
       "      <td>1.183190</td>\n",
       "    </tr>\n",
       "    <tr>\n",
       "      <th>Other</th>\n",
       "      <th>0</th>\n",
       "      <td>0.016393</td>\n",
       "      <td>1</td>\n",
       "      <td>28</td>\n",
       "      <td>61</td>\n",
       "      <td>32</td>\n",
       "      <td>0.875000</td>\n",
       "    </tr>\n",
       "    <tr>\n",
       "      <th rowspan=\"4\" valign=\"top\">Black</th>\n",
       "      <th>DUI</th>\n",
       "      <th>0</th>\n",
       "      <td>0.200000</td>\n",
       "      <td>2</td>\n",
       "      <td>1</td>\n",
       "      <td>10</td>\n",
       "      <td>7</td>\n",
       "      <td>0.142857</td>\n",
       "    </tr>\n",
       "    <tr>\n",
       "      <th>Equipment</th>\n",
       "      <th>0</th>\n",
       "      <td>0.029181</td>\n",
       "      <td>26</td>\n",
       "      <td>156</td>\n",
       "      <td>891</td>\n",
       "      <td>707</td>\n",
       "      <td>0.220651</td>\n",
       "    </tr>\n",
       "    <tr>\n",
       "      <th>Moving violation</th>\n",
       "      <th>0</th>\n",
       "      <td>0.016052</td>\n",
       "      <td>71</td>\n",
       "      <td>2110</td>\n",
       "      <td>4423</td>\n",
       "      <td>2239</td>\n",
       "      <td>0.942385</td>\n",
       "    </tr>\n",
       "    <tr>\n",
       "      <th>Other</th>\n",
       "      <th>0</th>\n",
       "      <td>0.048583</td>\n",
       "      <td>12</td>\n",
       "      <td>161</td>\n",
       "      <td>247</td>\n",
       "      <td>73</td>\n",
       "      <td>2.205479</td>\n",
       "    </tr>\n",
       "    <tr>\n",
       "      <th rowspan=\"4\" valign=\"top\">Hispanic</th>\n",
       "      <th>DUI</th>\n",
       "      <th>0</th>\n",
       "      <td>0.200000</td>\n",
       "      <td>2</td>\n",
       "      <td>6</td>\n",
       "      <td>10</td>\n",
       "      <td>2</td>\n",
       "      <td>3.000000</td>\n",
       "    </tr>\n",
       "    <tr>\n",
       "      <th>Equipment</th>\n",
       "      <th>0</th>\n",
       "      <td>0.023560</td>\n",
       "      <td>9</td>\n",
       "      <td>59</td>\n",
       "      <td>382</td>\n",
       "      <td>314</td>\n",
       "      <td>0.187898</td>\n",
       "    </tr>\n",
       "    <tr>\n",
       "      <th>Moving violation</th>\n",
       "      <th>0</th>\n",
       "      <td>0.012422</td>\n",
       "      <td>26</td>\n",
       "      <td>1062</td>\n",
       "      <td>2093</td>\n",
       "      <td>1003</td>\n",
       "      <td>1.058824</td>\n",
       "    </tr>\n",
       "    <tr>\n",
       "      <th>Other</th>\n",
       "      <th>0</th>\n",
       "      <td>0.064935</td>\n",
       "      <td>5</td>\n",
       "      <td>41</td>\n",
       "      <td>77</td>\n",
       "      <td>30</td>\n",
       "      <td>1.366667</td>\n",
       "    </tr>\n",
       "    <tr>\n",
       "      <th rowspan=\"3\" valign=\"top\">Other</th>\n",
       "      <th>Equipment</th>\n",
       "      <th>0</th>\n",
       "      <td>0.069767</td>\n",
       "      <td>3</td>\n",
       "      <td>8</td>\n",
       "      <td>43</td>\n",
       "      <td>32</td>\n",
       "      <td>0.250000</td>\n",
       "    </tr>\n",
       "    <tr>\n",
       "      <th>Moving violation</th>\n",
       "      <th>0</th>\n",
       "      <td>0.014493</td>\n",
       "      <td>3</td>\n",
       "      <td>117</td>\n",
       "      <td>207</td>\n",
       "      <td>87</td>\n",
       "      <td>1.344828</td>\n",
       "    </tr>\n",
       "    <tr>\n",
       "      <th>Other</th>\n",
       "      <th>0</th>\n",
       "      <td>0.076923</td>\n",
       "      <td>1</td>\n",
       "      <td>6</td>\n",
       "      <td>13</td>\n",
       "      <td>6</td>\n",
       "      <td>1.000000</td>\n",
       "    </tr>\n",
       "    <tr>\n",
       "      <th rowspan=\"5\" valign=\"top\">White</th>\n",
       "      <th>DUI</th>\n",
       "      <th>0</th>\n",
       "      <td>0.192364</td>\n",
       "      <td>131</td>\n",
       "      <td>172</td>\n",
       "      <td>681</td>\n",
       "      <td>378</td>\n",
       "      <td>0.455026</td>\n",
       "    </tr>\n",
       "    <tr>\n",
       "      <th>Equipment</th>\n",
       "      <th>0</th>\n",
       "      <td>0.012233</td>\n",
       "      <td>599</td>\n",
       "      <td>7736</td>\n",
       "      <td>48965</td>\n",
       "      <td>40612</td>\n",
       "      <td>0.190486</td>\n",
       "    </tr>\n",
       "    <tr>\n",
       "      <th>Moving violation</th>\n",
       "      <th>0</th>\n",
       "      <td>0.008635</td>\n",
       "      <td>1747</td>\n",
       "      <td>84797</td>\n",
       "      <td>202321</td>\n",
       "      <td>115729</td>\n",
       "      <td>0.732720</td>\n",
       "    </tr>\n",
       "    <tr>\n",
       "      <th>Other</th>\n",
       "      <th>0</th>\n",
       "      <td>0.058378</td>\n",
       "      <td>547</td>\n",
       "      <td>5254</td>\n",
       "      <td>9370</td>\n",
       "      <td>3558</td>\n",
       "      <td>1.476672</td>\n",
       "    </tr>\n",
       "    <tr>\n",
       "      <th>Other (non-mapped)</th>\n",
       "      <th>0</th>\n",
       "      <td>0.000000</td>\n",
       "      <td>0</td>\n",
       "      <td>1</td>\n",
       "      <td>2</td>\n",
       "      <td>1</td>\n",
       "      <td>1.000000</td>\n",
       "    </tr>\n",
       "  </tbody>\n",
       "</table>\n",
       "</div>"
      ],
      "text/plain": [
       "                                  arrest_ratio  n_arrests  n_citations  \\\n",
       "driver_race violation                                                    \n",
       "Asian       DUI                0      0.200000          2            2   \n",
       "            Equipment          0      0.006270          2           37   \n",
       "            Moving violation   0      0.005563         17         1647   \n",
       "            Other              0      0.016393          1           28   \n",
       "Black       DUI                0      0.200000          2            1   \n",
       "            Equipment          0      0.029181         26          156   \n",
       "            Moving violation   0      0.016052         71         2110   \n",
       "            Other              0      0.048583         12          161   \n",
       "Hispanic    DUI                0      0.200000          2            6   \n",
       "            Equipment          0      0.023560          9           59   \n",
       "            Moving violation   0      0.012422         26         1062   \n",
       "            Other              0      0.064935          5           41   \n",
       "Other       Equipment          0      0.069767          3            8   \n",
       "            Moving violation   0      0.014493          3          117   \n",
       "            Other              0      0.076923          1            6   \n",
       "White       DUI                0      0.192364        131          172   \n",
       "            Equipment          0      0.012233        599         7736   \n",
       "            Moving violation   0      0.008635       1747        84797   \n",
       "            Other              0      0.058378        547         5254   \n",
       "            Other (non-mapped) 0      0.000000          0            1   \n",
       "\n",
       "                                  n_total  n_warnings  warning_citation_ratio  \n",
       "driver_race violation                                                          \n",
       "Asian       DUI                0       10           6                0.333333  \n",
       "            Equipment          0      319         280                0.132143  \n",
       "            Moving violation   0     3056        1392                1.183190  \n",
       "            Other              0       61          32                0.875000  \n",
       "Black       DUI                0       10           7                0.142857  \n",
       "            Equipment          0      891         707                0.220651  \n",
       "            Moving violation   0     4423        2239                0.942385  \n",
       "            Other              0      247          73                2.205479  \n",
       "Hispanic    DUI                0       10           2                3.000000  \n",
       "            Equipment          0      382         314                0.187898  \n",
       "            Moving violation   0     2093        1003                1.058824  \n",
       "            Other              0       77          30                1.366667  \n",
       "Other       Equipment          0       43          32                0.250000  \n",
       "            Moving violation   0      207          87                1.344828  \n",
       "            Other              0       13           6                1.000000  \n",
       "White       DUI                0      681         378                0.455026  \n",
       "            Equipment          0    48965       40612                0.190486  \n",
       "            Moving violation   0   202321      115729                0.732720  \n",
       "            Other              0     9370        3558                1.476672  \n",
       "            Other (non-mapped) 0        2           1                1.000000  "
      ]
     },
     "execution_count": 44,
     "metadata": {},
     "output_type": "execute_result"
    }
   ],
   "source": [
    "df_vt.groupby(['driver_race','violation']).apply(compute_violation_and_outcome_stats)"
   ]
  },
  {
   "cell_type": "code",
   "execution_count": 43,
   "metadata": {
    "ExecuteTime": {
     "end_time": "2017-10-21T06:38:50.802414Z",
     "start_time": "2017-10-21T06:38:50.494520Z"
    }
   },
   "outputs": [
    {
     "data": {
      "text/html": [
       "<div>\n",
       "<style>\n",
       "    .dataframe thead tr:only-child th {\n",
       "        text-align: right;\n",
       "    }\n",
       "\n",
       "    .dataframe thead th {\n",
       "        text-align: left;\n",
       "    }\n",
       "\n",
       "    .dataframe tbody tr th {\n",
       "        vertical-align: top;\n",
       "    }\n",
       "</style>\n",
       "<table border=\"1\" class=\"dataframe\">\n",
       "  <thead>\n",
       "    <tr style=\"text-align: right;\">\n",
       "      <th></th>\n",
       "      <th></th>\n",
       "      <th>arrest_ratio</th>\n",
       "      <th>n_arrests</th>\n",
       "      <th>n_citations</th>\n",
       "      <th>n_total</th>\n",
       "      <th>n_warnings</th>\n",
       "      <th>warning_citation_ratio</th>\n",
       "    </tr>\n",
       "    <tr>\n",
       "      <th>driver_race</th>\n",
       "      <th></th>\n",
       "      <th></th>\n",
       "      <th></th>\n",
       "      <th></th>\n",
       "      <th></th>\n",
       "      <th></th>\n",
       "      <th></th>\n",
       "    </tr>\n",
       "  </thead>\n",
       "  <tbody>\n",
       "    <tr>\n",
       "      <th>Asian</th>\n",
       "      <th>0</th>\n",
       "      <td>0.006384</td>\n",
       "      <td>22</td>\n",
       "      <td>1714</td>\n",
       "      <td>3446</td>\n",
       "      <td>1710</td>\n",
       "      <td>1.002339</td>\n",
       "    </tr>\n",
       "    <tr>\n",
       "      <th>Black</th>\n",
       "      <th>0</th>\n",
       "      <td>0.019925</td>\n",
       "      <td>111</td>\n",
       "      <td>2428</td>\n",
       "      <td>5571</td>\n",
       "      <td>3026</td>\n",
       "      <td>0.802379</td>\n",
       "    </tr>\n",
       "    <tr>\n",
       "      <th>Hispanic</th>\n",
       "      <th>0</th>\n",
       "      <td>0.016393</td>\n",
       "      <td>42</td>\n",
       "      <td>1168</td>\n",
       "      <td>2562</td>\n",
       "      <td>1349</td>\n",
       "      <td>0.865827</td>\n",
       "    </tr>\n",
       "    <tr>\n",
       "      <th>Other</th>\n",
       "      <th>0</th>\n",
       "      <td>0.026616</td>\n",
       "      <td>7</td>\n",
       "      <td>131</td>\n",
       "      <td>263</td>\n",
       "      <td>125</td>\n",
       "      <td>1.048000</td>\n",
       "    </tr>\n",
       "    <tr>\n",
       "      <th>White</th>\n",
       "      <th>0</th>\n",
       "      <td>0.011571</td>\n",
       "      <td>3024</td>\n",
       "      <td>97960</td>\n",
       "      <td>261339</td>\n",
       "      <td>160278</td>\n",
       "      <td>0.611188</td>\n",
       "    </tr>\n",
       "  </tbody>\n",
       "</table>\n",
       "</div>"
      ],
      "text/plain": [
       "               arrest_ratio  n_arrests  n_citations  n_total  n_warnings  \\\n",
       "driver_race                                                                \n",
       "Asian       0      0.006384         22         1714     3446        1710   \n",
       "Black       0      0.019925        111         2428     5571        3026   \n",
       "Hispanic    0      0.016393         42         1168     2562        1349   \n",
       "Other       0      0.026616          7          131      263         125   \n",
       "White       0      0.011571       3024        97960   261339      160278   \n",
       "\n",
       "               warning_citation_ratio  \n",
       "driver_race                            \n",
       "Asian       0                1.002339  \n",
       "Black       0                0.802379  \n",
       "Hispanic    0                0.865827  \n",
       "Other       0                1.048000  \n",
       "White       0                0.611188  "
      ]
     },
     "execution_count": 43,
     "metadata": {},
     "output_type": "execute_result"
    }
   ],
   "source": [
    "df_vt.groupby(['driver_race']).apply(compute_violation_and_outcome_stats)"
   ]
  },
  {
   "cell_type": "code",
   "execution_count": 42,
   "metadata": {
    "ExecuteTime": {
     "end_time": "2017-10-21T06:38:45.857194Z",
     "start_time": "2017-10-21T06:38:45.843027Z"
    }
   },
   "outputs": [],
   "source": [
    "# Analyze for each race - distribution of stop types.  distribution of stop outcome by type.\n",
    "\n",
    "def compute_violation_and_outcome_stats(df):\n",
    "    \"\"\"Compute the search rate and hit rate\"\"\"\n",
    "    n_total = len(df)\n",
    "    n_warnings = len(df[df['stop_outcome'] == 'Written Warning'])\n",
    "    n_citations = len(df[df['stop_outcome'] == 'Citation'])\n",
    "    n_arrests = len(df[df['stop_outcome'] == 'Arrest for Violation'])\n",
    "    warning_citation_ratio = n_citations / n_warnings\n",
    "    arrest_ratio = n_arrests / n_total\n",
    "    \n",
    "    return(pd.DataFrame(data = { \n",
    "        'n_total': n_total,\n",
    "        'n_warnings': n_warnings,\n",
    "        'n_citations': n_citations,\n",
    "        'n_arrests': n_arrests,\n",
    "        'warning_citation_ratio': warning_citation_ratio,\n",
    "        'arrest_ratio': arrest_ratio\n",
    "    }, index=[0]))"
   ]
  },
  {
   "cell_type": "code",
   "execution_count": 11,
   "metadata": {
    "ExecuteTime": {
     "end_time": "2017-10-21T06:08:19.036505Z",
     "start_time": "2017-10-21T06:08:18.955347Z"
    }
   },
   "outputs": [
    {
     "data": {
      "text/plain": [
       "Written Warning         166488\n",
       "Citation                103401\n",
       "Arrest for Violation      3206\n",
       "Warrant Arrest              76\n",
       "Verbal Warning              10\n",
       "Name: stop_outcome, dtype: int64"
      ]
     },
     "execution_count": 11,
     "metadata": {},
     "output_type": "execute_result"
    }
   ],
   "source": [
    "df_vt['stop_outcome'].value_counts()"
   ]
  },
  {
   "cell_type": "code",
   "execution_count": 12,
   "metadata": {
    "ExecuteTime": {
     "end_time": "2017-10-21T06:08:19.497780Z",
     "start_time": "2017-10-21T06:08:19.039483Z"
    }
   },
   "outputs": [
    {
     "data": {
      "text/html": [
       "<div>\n",
       "<style>\n",
       "    .dataframe thead tr:only-child th {\n",
       "        text-align: right;\n",
       "    }\n",
       "\n",
       "    .dataframe thead th {\n",
       "        text-align: left;\n",
       "    }\n",
       "\n",
       "    .dataframe tbody tr th {\n",
       "        vertical-align: top;\n",
       "    }\n",
       "</style>\n",
       "<table border=\"1\" class=\"dataframe\">\n",
       "  <thead>\n",
       "    <tr style=\"text-align: right;\">\n",
       "      <th></th>\n",
       "      <th>id</th>\n",
       "      <th>state</th>\n",
       "      <th>stop_date</th>\n",
       "      <th>stop_time</th>\n",
       "      <th>location_raw</th>\n",
       "      <th>county_name</th>\n",
       "      <th>county_fips</th>\n",
       "      <th>fine_grained_location</th>\n",
       "      <th>police_department</th>\n",
       "      <th>driver_age_raw</th>\n",
       "      <th>...</th>\n",
       "      <th>violation_raw</th>\n",
       "      <th>violation</th>\n",
       "      <th>search_conducted</th>\n",
       "      <th>search_type_raw</th>\n",
       "      <th>search_type</th>\n",
       "      <th>contraband_found</th>\n",
       "      <th>stop_outcome</th>\n",
       "      <th>is_arrested</th>\n",
       "      <th>officer_id</th>\n",
       "      <th>year</th>\n",
       "    </tr>\n",
       "    <tr>\n",
       "      <th>driver_gender</th>\n",
       "      <th></th>\n",
       "      <th></th>\n",
       "      <th></th>\n",
       "      <th></th>\n",
       "      <th></th>\n",
       "      <th></th>\n",
       "      <th></th>\n",
       "      <th></th>\n",
       "      <th></th>\n",
       "      <th></th>\n",
       "      <th></th>\n",
       "      <th></th>\n",
       "      <th></th>\n",
       "      <th></th>\n",
       "      <th></th>\n",
       "      <th></th>\n",
       "      <th></th>\n",
       "      <th></th>\n",
       "      <th></th>\n",
       "      <th></th>\n",
       "      <th></th>\n",
       "    </tr>\n",
       "  </thead>\n",
       "  <tbody>\n",
       "    <tr>\n",
       "      <th>F</th>\n",
       "      <td>99111</td>\n",
       "      <td>99111</td>\n",
       "      <td>99111</td>\n",
       "      <td>99111</td>\n",
       "      <td>99111</td>\n",
       "      <td>99111</td>\n",
       "      <td>99111</td>\n",
       "      <td>99111</td>\n",
       "      <td>99111</td>\n",
       "      <td>99111</td>\n",
       "      <td>...</td>\n",
       "      <td>99111</td>\n",
       "      <td>99111</td>\n",
       "      <td>99111</td>\n",
       "      <td>99111</td>\n",
       "      <td>99111</td>\n",
       "      <td>99111</td>\n",
       "      <td>99111</td>\n",
       "      <td>99111</td>\n",
       "      <td>99111</td>\n",
       "      <td>99111</td>\n",
       "    </tr>\n",
       "    <tr>\n",
       "      <th>M</th>\n",
       "      <td>174070</td>\n",
       "      <td>174070</td>\n",
       "      <td>174070</td>\n",
       "      <td>174070</td>\n",
       "      <td>174070</td>\n",
       "      <td>174070</td>\n",
       "      <td>174070</td>\n",
       "      <td>174070</td>\n",
       "      <td>174070</td>\n",
       "      <td>174070</td>\n",
       "      <td>...</td>\n",
       "      <td>174070</td>\n",
       "      <td>174070</td>\n",
       "      <td>174070</td>\n",
       "      <td>174070</td>\n",
       "      <td>174070</td>\n",
       "      <td>174070</td>\n",
       "      <td>174070</td>\n",
       "      <td>174070</td>\n",
       "      <td>174070</td>\n",
       "      <td>174070</td>\n",
       "    </tr>\n",
       "  </tbody>\n",
       "</table>\n",
       "<p>2 rows × 23 columns</p>\n",
       "</div>"
      ],
      "text/plain": [
       "                   id   state  stop_date  stop_time  location_raw  \\\n",
       "driver_gender                                                       \n",
       "F               99111   99111      99111      99111         99111   \n",
       "M              174070  174070     174070     174070        174070   \n",
       "\n",
       "               county_name  county_fips  fine_grained_location  \\\n",
       "driver_gender                                                    \n",
       "F                    99111        99111                  99111   \n",
       "M                   174070       174070                 174070   \n",
       "\n",
       "               police_department  driver_age_raw   ...    violation_raw  \\\n",
       "driver_gender                                      ...                    \n",
       "F                          99111           99111   ...            99111   \n",
       "M                         174070          174070   ...           174070   \n",
       "\n",
       "               violation  search_conducted  search_type_raw  search_type  \\\n",
       "driver_gender                                                              \n",
       "F                  99111             99111            99111        99111   \n",
       "M                 174070            174070           174070       174070   \n",
       "\n",
       "               contraband_found  stop_outcome  is_arrested  officer_id    year  \n",
       "driver_gender                                                                   \n",
       "F                         99111         99111        99111       99111   99111  \n",
       "M                        174070        174070       174070      174070  174070  \n",
       "\n",
       "[2 rows x 23 columns]"
      ]
     },
     "execution_count": 12,
     "metadata": {},
     "output_type": "execute_result"
    }
   ],
   "source": [
    "df_vt.groupby('driver_gender').count()"
   ]
  },
  {
   "cell_type": "code",
   "execution_count": 66,
   "metadata": {
    "ExecuteTime": {
     "end_time": "2017-10-20T02:26:39.920694Z",
     "start_time": "2017-10-20T02:26:39.857484Z"
    }
   },
   "outputs": [
    {
     "data": {
      "text/plain": [
       "M    179678\n",
       "F    101895\n",
       "Name: driver_gender, dtype: int64"
      ]
     },
     "execution_count": 66,
     "metadata": {},
     "output_type": "execute_result"
    }
   ],
   "source": [
    "df_vt['driver_gender'].value_counts()"
   ]
  },
  {
   "cell_type": "code",
   "execution_count": 67,
   "metadata": {
    "ExecuteTime": {
     "end_time": "2017-10-20T02:26:39.988430Z",
     "start_time": "2017-10-20T02:26:39.924083Z"
    }
   },
   "outputs": [
    {
     "data": {
      "text/plain": [
       "White       266216\n",
       "Black         5741\n",
       "Asian         3607\n",
       "Hispanic      2625\n",
       "Other          279\n",
       "Name: driver_race, dtype: int64"
      ]
     },
     "execution_count": 67,
     "metadata": {},
     "output_type": "execute_result"
    }
   ],
   "source": [
    "df_vt['driver_race'].value_counts()"
   ]
  },
  {
   "cell_type": "markdown",
   "metadata": {},
   "source": [
    "# Analyze Data"
   ]
  },
  {
   "cell_type": "code",
   "execution_count": 71,
   "metadata": {
    "ExecuteTime": {
     "end_time": "2017-10-20T02:26:55.584524Z",
     "start_time": "2017-10-20T02:26:41.241587Z"
    }
   },
   "outputs": [
    {
     "data": {
      "text/plain": [
       "<matplotlib.legend.Legend at 0x117390400>"
      ]
     },
     "execution_count": 71,
     "metadata": {},
     "output_type": "execute_result"
    },
    {
     "data": {
      "image/png": "[encoded data removed]",
      "text/plain": [
       "<matplotlib.figure.Figure at 0x124da6ac8>"
      ]
     },
     "metadata": {},
     "output_type": "display_data"
    }
   ],
   "source": [
    "fig, ax = plt.subplots(figsize=(20,10))\n",
    "ax.set_xlim(15, 70)\n",
    "for race in df_vt['driver_race'].unique():\n",
    "    s = df_vt[df_vt['driver_race'] == race]['driver_age']\n",
    "    s.plot.kde(ax=ax, label=race)\n",
    "ax.legend()"
   ]
  },
  {
   "cell_type": "code",
   "execution_count": 72,
   "metadata": {
    "ExecuteTime": {
     "end_time": "2017-10-20T02:26:56.271009Z",
     "start_time": "2017-10-20T02:26:55.588355Z"
    }
   },
   "outputs": [],
   "source": [
    "fig.savefig('race_age_dist.png', bbox_inches='tight')"
   ]
  },
  {
   "cell_type": "code",
   "execution_count": 74,
   "metadata": {
    "ExecuteTime": {
     "end_time": "2017-10-20T02:28:41.548365Z",
     "start_time": "2017-10-20T02:28:41.525518Z"
    }
   },
   "outputs": [],
   "source": [
    "def compute_search_stats(df):\n",
    "    \"\"\"Compute the search rate and hit rate\"\"\"\n",
    "    search_conducted = df['search_conducted']\n",
    "    contraband_found = df['contraband_found']\n",
    "    n_stops     = len(search_conducted)\n",
    "    n_searches  = sum(search_conducted)\n",
    "    n_hits      = sum(contraband_found)\n",
    "    \n",
    "    if (n_stops) < 50:\n",
    "        search_rate = None\n",
    "    else:\n",
    "        search_rate = n_searches / n_stops\n",
    "    \n",
    "    if (n_searches) < 5:\n",
    "        hit_rate = None\n",
    "    else:\n",
    "        hit_rate = n_hits / n_searches\n",
    "    \n",
    "    return(pd.DataFrame(data = { \n",
    "        'n_stops': n_stops,\n",
    "        'n_searches': n_searches,\n",
    "        'n_hits': n_hits,\n",
    "        'search_rate': search_rate,\n",
    "        'hit_rate': hit_rate\n",
    "    }, index=[0]))"
   ]
  },
  {
   "cell_type": "code",
   "execution_count": 75,
   "metadata": {
    "ExecuteTime": {
     "end_time": "2017-10-20T02:28:42.975440Z",
     "start_time": "2017-10-20T02:28:41.807927Z"
    }
   },
   "outputs": [
    {
     "data": {
      "text/html": [
       "<div>\n",
       "<style>\n",
       "    .dataframe thead tr:only-child th {\n",
       "        text-align: right;\n",
       "    }\n",
       "\n",
       "    .dataframe thead th {\n",
       "        text-align: left;\n",
       "    }\n",
       "\n",
       "    .dataframe tbody tr th {\n",
       "        vertical-align: top;\n",
       "    }\n",
       "</style>\n",
       "<table border=\"1\" class=\"dataframe\">\n",
       "  <thead>\n",
       "    <tr style=\"text-align: right;\">\n",
       "      <th></th>\n",
       "      <th>hit_rate</th>\n",
       "      <th>n_hits</th>\n",
       "      <th>n_searches</th>\n",
       "      <th>n_stops</th>\n",
       "      <th>search_rate</th>\n",
       "    </tr>\n",
       "  </thead>\n",
       "  <tbody>\n",
       "    <tr>\n",
       "      <th>0</th>\n",
       "      <td>0.796262</td>\n",
       "      <td>2599</td>\n",
       "      <td>3264</td>\n",
       "      <td>273181</td>\n",
       "      <td>0.011948</td>\n",
       "    </tr>\n",
       "  </tbody>\n",
       "</table>\n",
       "</div>"
      ],
      "text/plain": [
       "   hit_rate  n_hits  n_searches  n_stops  search_rate\n",
       "0  0.796262    2599        3264   273181     0.011948"
      ]
     },
     "execution_count": 75,
     "metadata": {},
     "output_type": "execute_result"
    }
   ],
   "source": [
    "compute_search_stats(df_vt)"
   ]
  },
  {
   "cell_type": "code",
   "execution_count": 16,
   "metadata": {
    "ExecuteTime": {
     "end_time": "2017-10-15T02:55:52.783299Z",
     "start_time": "2017-10-15T02:55:51.302464Z"
    }
   },
   "outputs": [
    {
     "data": {
      "text/html": [
       "<div>\n",
       "<style>\n",
       "    .dataframe thead tr:only-child th {\n",
       "        text-align: right;\n",
       "    }\n",
       "\n",
       "    .dataframe thead th {\n",
       "        text-align: left;\n",
       "    }\n",
       "\n",
       "    .dataframe tbody tr th {\n",
       "        vertical-align: top;\n",
       "    }\n",
       "</style>\n",
       "<table border=\"1\" class=\"dataframe\">\n",
       "  <thead>\n",
       "    <tr style=\"text-align: right;\">\n",
       "      <th></th>\n",
       "      <th></th>\n",
       "      <th>hit_rate</th>\n",
       "      <th>n_hits</th>\n",
       "      <th>n_searches</th>\n",
       "      <th>n_stops</th>\n",
       "      <th>search_rate</th>\n",
       "    </tr>\n",
       "    <tr>\n",
       "      <th>driver_gender</th>\n",
       "      <th></th>\n",
       "      <th></th>\n",
       "      <th></th>\n",
       "      <th></th>\n",
       "      <th></th>\n",
       "      <th></th>\n",
       "    </tr>\n",
       "  </thead>\n",
       "  <tbody>\n",
       "    <tr>\n",
       "      <th>F</th>\n",
       "      <th>0</th>\n",
       "      <td>0.788820</td>\n",
       "      <td>508</td>\n",
       "      <td>644</td>\n",
       "      <td>99111</td>\n",
       "      <td>0.006498</td>\n",
       "    </tr>\n",
       "    <tr>\n",
       "      <th>M</th>\n",
       "      <th>0</th>\n",
       "      <td>0.798092</td>\n",
       "      <td>2091</td>\n",
       "      <td>2620</td>\n",
       "      <td>174070</td>\n",
       "      <td>0.015051</td>\n",
       "    </tr>\n",
       "  </tbody>\n",
       "</table>\n",
       "</div>"
      ],
      "text/plain": [
       "                 hit_rate  n_hits  n_searches  n_stops  search_rate\n",
       "driver_gender                                                      \n",
       "F             0  0.788820     508         644    99111     0.006498\n",
       "M             0  0.798092    2091        2620   174070     0.015051"
      ]
     },
     "execution_count": 16,
     "metadata": {},
     "output_type": "execute_result"
    }
   ],
   "source": [
    "df_vt.groupby('driver_gender').apply(compute_search_stats)"
   ]
  },
  {
   "cell_type": "code",
   "execution_count": 17,
   "metadata": {
    "ExecuteTime": {
     "end_time": "2017-10-15T02:55:54.069902Z",
     "start_time": "2017-10-15T02:55:52.786793Z"
    }
   },
   "outputs": [
    {
     "data": {
      "text/html": [
       "<div>\n",
       "<style>\n",
       "    .dataframe thead tr:only-child th {\n",
       "        text-align: right;\n",
       "    }\n",
       "\n",
       "    .dataframe thead th {\n",
       "        text-align: left;\n",
       "    }\n",
       "\n",
       "    .dataframe tbody tr th {\n",
       "        vertical-align: top;\n",
       "    }\n",
       "</style>\n",
       "<table border=\"1\" class=\"dataframe\">\n",
       "  <thead>\n",
       "    <tr style=\"text-align: right;\">\n",
       "      <th></th>\n",
       "      <th></th>\n",
       "      <th>hit_rate</th>\n",
       "      <th>n_hits</th>\n",
       "      <th>n_searches</th>\n",
       "      <th>n_stops</th>\n",
       "      <th>search_rate</th>\n",
       "    </tr>\n",
       "    <tr>\n",
       "      <th>driver_race</th>\n",
       "      <th></th>\n",
       "      <th></th>\n",
       "      <th></th>\n",
       "      <th></th>\n",
       "      <th></th>\n",
       "      <th></th>\n",
       "    </tr>\n",
       "  </thead>\n",
       "  <tbody>\n",
       "    <tr>\n",
       "      <th>Asian</th>\n",
       "      <th>0</th>\n",
       "      <td>0.785714</td>\n",
       "      <td>22</td>\n",
       "      <td>28</td>\n",
       "      <td>3446</td>\n",
       "      <td>0.008125</td>\n",
       "    </tr>\n",
       "    <tr>\n",
       "      <th>Black</th>\n",
       "      <th>0</th>\n",
       "      <td>0.686620</td>\n",
       "      <td>195</td>\n",
       "      <td>284</td>\n",
       "      <td>5571</td>\n",
       "      <td>0.050978</td>\n",
       "    </tr>\n",
       "    <tr>\n",
       "      <th>Hispanic</th>\n",
       "      <th>0</th>\n",
       "      <td>0.644231</td>\n",
       "      <td>67</td>\n",
       "      <td>104</td>\n",
       "      <td>2562</td>\n",
       "      <td>0.040593</td>\n",
       "    </tr>\n",
       "    <tr>\n",
       "      <th>Other</th>\n",
       "      <th>0</th>\n",
       "      <td>0.600000</td>\n",
       "      <td>6</td>\n",
       "      <td>10</td>\n",
       "      <td>263</td>\n",
       "      <td>0.038023</td>\n",
       "    </tr>\n",
       "    <tr>\n",
       "      <th>White</th>\n",
       "      <th>0</th>\n",
       "      <td>0.813601</td>\n",
       "      <td>2309</td>\n",
       "      <td>2838</td>\n",
       "      <td>261339</td>\n",
       "      <td>0.010859</td>\n",
       "    </tr>\n",
       "  </tbody>\n",
       "</table>\n",
       "</div>"
      ],
      "text/plain": [
       "               hit_rate  n_hits  n_searches  n_stops  search_rate\n",
       "driver_race                                                      \n",
       "Asian       0  0.785714      22          28     3446     0.008125\n",
       "Black       0  0.686620     195         284     5571     0.050978\n",
       "Hispanic    0  0.644231      67         104     2562     0.040593\n",
       "Other       0  0.600000       6          10      263     0.038023\n",
       "White       0  0.813601    2309        2838   261339     0.010859"
      ]
     },
     "execution_count": 17,
     "metadata": {},
     "output_type": "execute_result"
    }
   ],
   "source": [
    "df_vt.groupby('driver_race').apply(compute_search_stats)"
   ]
  },
  {
   "cell_type": "code",
   "execution_count": 18,
   "metadata": {
    "ExecuteTime": {
     "end_time": "2017-10-15T02:55:55.352374Z",
     "start_time": "2017-10-15T02:55:54.072592Z"
    }
   },
   "outputs": [
    {
     "data": {
      "text/html": [
       "<div>\n",
       "<style>\n",
       "    .dataframe thead tr:only-child th {\n",
       "        text-align: right;\n",
       "    }\n",
       "\n",
       "    .dataframe thead th {\n",
       "        text-align: left;\n",
       "    }\n",
       "\n",
       "    .dataframe tbody tr th {\n",
       "        vertical-align: top;\n",
       "    }\n",
       "</style>\n",
       "<table border=\"1\" class=\"dataframe\">\n",
       "  <thead>\n",
       "    <tr style=\"text-align: right;\">\n",
       "      <th></th>\n",
       "      <th></th>\n",
       "      <th>hit_rate</th>\n",
       "      <th>n_hits</th>\n",
       "      <th>n_searches</th>\n",
       "      <th>n_stops</th>\n",
       "      <th>search_rate</th>\n",
       "    </tr>\n",
       "    <tr>\n",
       "      <th>driver_age</th>\n",
       "      <th></th>\n",
       "      <th></th>\n",
       "      <th></th>\n",
       "      <th></th>\n",
       "      <th></th>\n",
       "      <th></th>\n",
       "    </tr>\n",
       "  </thead>\n",
       "  <tbody>\n",
       "    <tr>\n",
       "      <th>(15, 20]</th>\n",
       "      <th>0</th>\n",
       "      <td>0.846954</td>\n",
       "      <td>570</td>\n",
       "      <td>673</td>\n",
       "      <td>27443</td>\n",
       "      <td>0.024524</td>\n",
       "    </tr>\n",
       "    <tr>\n",
       "      <th>(20, 25]</th>\n",
       "      <th>0</th>\n",
       "      <td>0.837488</td>\n",
       "      <td>840</td>\n",
       "      <td>1003</td>\n",
       "      <td>43310</td>\n",
       "      <td>0.023159</td>\n",
       "    </tr>\n",
       "    <tr>\n",
       "      <th>(25, 30]</th>\n",
       "      <th>0</th>\n",
       "      <td>0.788800</td>\n",
       "      <td>493</td>\n",
       "      <td>625</td>\n",
       "      <td>34794</td>\n",
       "      <td>0.017963</td>\n",
       "    </tr>\n",
       "    <tr>\n",
       "      <th>(30, 35]</th>\n",
       "      <th>0</th>\n",
       "      <td>0.766756</td>\n",
       "      <td>286</td>\n",
       "      <td>373</td>\n",
       "      <td>27784</td>\n",
       "      <td>0.013425</td>\n",
       "    </tr>\n",
       "    <tr>\n",
       "      <th>(35, 40]</th>\n",
       "      <th>0</th>\n",
       "      <td>0.744186</td>\n",
       "      <td>160</td>\n",
       "      <td>215</td>\n",
       "      <td>23241</td>\n",
       "      <td>0.009251</td>\n",
       "    </tr>\n",
       "    <tr>\n",
       "      <th>(40, 45]</th>\n",
       "      <th>0</th>\n",
       "      <td>0.692913</td>\n",
       "      <td>88</td>\n",
       "      <td>127</td>\n",
       "      <td>24083</td>\n",
       "      <td>0.005273</td>\n",
       "    </tr>\n",
       "    <tr>\n",
       "      <th>(45, 50]</th>\n",
       "      <th>0</th>\n",
       "      <td>0.575472</td>\n",
       "      <td>61</td>\n",
       "      <td>106</td>\n",
       "      <td>24117</td>\n",
       "      <td>0.004395</td>\n",
       "    </tr>\n",
       "    <tr>\n",
       "      <th>(50, 55]</th>\n",
       "      <th>0</th>\n",
       "      <td>0.697368</td>\n",
       "      <td>53</td>\n",
       "      <td>76</td>\n",
       "      <td>22532</td>\n",
       "      <td>0.003373</td>\n",
       "    </tr>\n",
       "    <tr>\n",
       "      <th>(55, 60]</th>\n",
       "      <th>0</th>\n",
       "      <td>0.833333</td>\n",
       "      <td>30</td>\n",
       "      <td>36</td>\n",
       "      <td>17522</td>\n",
       "      <td>0.002055</td>\n",
       "    </tr>\n",
       "    <tr>\n",
       "      <th>(60, 65]</th>\n",
       "      <th>0</th>\n",
       "      <td>0.461538</td>\n",
       "      <td>6</td>\n",
       "      <td>13</td>\n",
       "      <td>12520</td>\n",
       "      <td>0.001038</td>\n",
       "    </tr>\n",
       "  </tbody>\n",
       "</table>\n",
       "</div>"
      ],
      "text/plain": [
       "              hit_rate  n_hits  n_searches  n_stops  search_rate\n",
       "driver_age                                                      \n",
       "(15, 20]   0  0.846954     570         673    27443     0.024524\n",
       "(20, 25]   0  0.837488     840        1003    43310     0.023159\n",
       "(25, 30]   0  0.788800     493         625    34794     0.017963\n",
       "(30, 35]   0  0.766756     286         373    27784     0.013425\n",
       "(35, 40]   0  0.744186     160         215    23241     0.009251\n",
       "(40, 45]   0  0.692913      88         127    24083     0.005273\n",
       "(45, 50]   0  0.575472      61         106    24117     0.004395\n",
       "(50, 55]   0  0.697368      53          76    22532     0.003373\n",
       "(55, 60]   0  0.833333      30          36    17522     0.002055\n",
       "(60, 65]   0  0.461538       6          13    12520     0.001038"
      ]
     },
     "execution_count": 18,
     "metadata": {},
     "output_type": "execute_result"
    }
   ],
   "source": [
    "age_groups = pd.cut(df_vt[\"driver_age\"], np.arange(15, 70, 5))\n",
    "age_aggregation = df_vt.groupby(age_groups).apply(compute_search_stats)\n",
    "age_aggregation"
   ]
  },
  {
   "cell_type": "code",
   "execution_count": 19,
   "metadata": {
    "ExecuteTime": {
     "end_time": "2017-10-15T02:55:55.707029Z",
     "start_time": "2017-10-15T02:55:55.355799Z"
    }
   },
   "outputs": [
    {
     "data": {
      "text/plain": [
       "<matplotlib.axes._subplots.AxesSubplot at 0x10b6227b8>"
      ]
     },
     "execution_count": 19,
     "metadata": {},
     "output_type": "execute_result"
    },
    {
     "data": {
      "image/png": "[encoded data removed]",
      "text/plain": [
       "<matplotlib.figure.Figure at 0x118209710>"
      ]
     },
     "metadata": {},
     "output_type": "display_data"
    }
   ],
   "source": [
    "age_aggregation['hit_rate'].plot.barh()"
   ]
  },
  {
   "cell_type": "code",
   "execution_count": 20,
   "metadata": {
    "ExecuteTime": {
     "end_time": "2017-10-15T02:55:56.074159Z",
     "start_time": "2017-10-15T02:55:55.710117Z"
    }
   },
   "outputs": [
    {
     "data": {
      "text/plain": [
       "<matplotlib.axes._subplots.AxesSubplot at 0x10b6151d0>"
      ]
     },
     "execution_count": 20,
     "metadata": {},
     "output_type": "execute_result"
    },
    {
     "data": {
      "image/png": "[encoded data removed]",
      "text/plain": [
       "<matplotlib.figure.Figure at 0x10b9a0630>"
      ]
     },
     "metadata": {},
     "output_type": "display_data"
    }
   ],
   "source": [
    "age_aggregation['search_rate'].plot.barh()"
   ]
  },
  {
   "cell_type": "code",
   "execution_count": 21,
   "metadata": {
    "ExecuteTime": {
     "end_time": "2017-10-15T02:55:57.284409Z",
     "start_time": "2017-10-15T02:55:56.077845Z"
    }
   },
   "outputs": [],
   "source": [
    "# Compare search rates between races and genders\n",
    "race_gender_agg = df_vt.groupby(['driver_race', 'driver_gender']).apply(compute_search_stats)"
   ]
  },
  {
   "cell_type": "code",
   "execution_count": 22,
   "metadata": {
    "ExecuteTime": {
     "end_time": "2017-10-15T02:55:57.651034Z",
     "start_time": "2017-10-15T02:55:57.287752Z"
    }
   },
   "outputs": [
    {
     "data": {
      "text/plain": [
       "<matplotlib.axes._subplots.AxesSubplot at 0x10b9c6588>"
      ]
     },
     "execution_count": 22,
     "metadata": {},
     "output_type": "execute_result"
    },
    {
     "data": {
      "image/png": "[encoded data removed]",
      "text/plain": [
       "<matplotlib.figure.Figure at 0x1181fdd68>"
      ]
     },
     "metadata": {},
     "output_type": "display_data"
    }
   ],
   "source": [
    "race_gender_agg['hit_rate'].plot.barh()"
   ]
  },
  {
   "cell_type": "code",
   "execution_count": 23,
   "metadata": {
    "ExecuteTime": {
     "end_time": "2017-10-15T02:55:58.017512Z",
     "start_time": "2017-10-15T02:55:57.654805Z"
    }
   },
   "outputs": [
    {
     "data": {
      "text/plain": [
       "<matplotlib.axes._subplots.AxesSubplot at 0x11053e588>"
      ]
     },
     "execution_count": 23,
     "metadata": {},
     "output_type": "execute_result"
    },
    {
     "data": {
      "image/png": "[encoded data removed]",
      "text/plain": [
       "<matplotlib.figure.Figure at 0x1104df4e0>"
      ]
     },
     "metadata": {},
     "output_type": "display_data"
    }
   ],
   "source": [
    "race_gender_agg['search_rate'].plot.barh()"
   ]
  },
  {
   "cell_type": "code",
   "execution_count": 68,
   "metadata": {
    "ExecuteTime": {
     "end_time": "2017-10-17T07:17:53.367828Z",
     "start_time": "2017-10-17T07:17:53.353385Z"
    }
   },
   "outputs": [],
   "source": [
    "def visualize_search_stats_by_county(df):\n",
    "    \"\"\"Generate a scatter plot of search rate vs. hit rate by race and county\"\"\"\n",
    "    race_location_agg = df.groupby(['county_name','driver_race']).apply(compute_search_stats)\n",
    "\n",
    "    fig, ax = plt.subplots()\n",
    "    for c, frame in race_location_agg.groupby('driver_race'):\n",
    "        ax.scatter(x=frame['hit_rate'], y=frame['search_rate'], label=c)\n",
    "    ax.legend(loc='upper center', bbox_to_anchor=(0.5, 1.2),\n",
    "              ncol=5, fancybox=True)\n",
    "    ax.set_xlabel('Hit Rate')\n",
    "    ax.set_ylabel('Search Rate')"
   ]
  },
  {
   "cell_type": "code",
   "execution_count": 69,
   "metadata": {
    "ExecuteTime": {
     "end_time": "2017-10-17T07:18:48.708440Z",
     "start_time": "2017-10-17T07:18:46.531146Z"
    }
   },
   "outputs": [
    {
     "data": {
      "image/png": "[encoded data removed]",
      "text/plain": [
       "<matplotlib.figure.Figure at 0x10a891908>"
      ]
     },
     "metadata": {},
     "output_type": "display_data"
    }
   ],
   "source": [
    "visualize_search_stats_by_county(df_vt)"
   ]
  },
  {
   "cell_type": "markdown",
   "metadata": {
    "ExecuteTime": {
     "end_time": "2017-10-14T09:22:04.273768Z",
     "start_time": "2017-10-14T09:22:04.254037Z"
    }
   },
   "source": [
    "# Wisconsin"
   ]
  },
  {
   "cell_type": "code",
   "execution_count": 78,
   "metadata": {
    "ExecuteTime": {
     "end_time": "2017-10-17T07:28:22.246937Z",
     "start_time": "2017-10-17T07:28:22.234796Z"
    }
   },
   "outputs": [],
   "source": [
    "fields = ['county_name', 'driver_race', 'search_conducted', 'contraband_found']"
   ]
  },
  {
   "cell_type": "code",
   "execution_count": 90,
   "metadata": {
    "ExecuteTime": {
     "end_time": "2017-10-17T07:43:34.466692Z",
     "start_time": "2017-10-17T07:43:28.088731Z"
    }
   },
   "outputs": [],
   "source": [
    "df_wi = pd.read_csv('./data/WI-clean.csv.gz', compression='gzip', low_memory=False, usecols=fields)"
   ]
  },
  {
   "cell_type": "code",
   "execution_count": 91,
   "metadata": {
    "ExecuteTime": {
     "end_time": "2017-10-17T07:43:34.947891Z",
     "start_time": "2017-10-17T07:43:34.471110Z"
    },
    "scrolled": true
   },
   "outputs": [],
   "source": [
    "df_wi.dropna(inplace=True)"
   ]
  },
  {
   "cell_type": "code",
   "execution_count": 81,
   "metadata": {
    "ExecuteTime": {
     "end_time": "2017-10-17T07:28:29.149327Z",
     "start_time": "2017-10-17T07:28:29.144871Z"
    }
   },
   "outputs": [],
   "source": [
    "# visualize_county_hit_rates(df_wi)"
   ]
  },
  {
   "cell_type": "code",
   "execution_count": 94,
   "metadata": {
    "ExecuteTime": {
     "end_time": "2017-10-17T07:44:49.707532Z",
     "start_time": "2017-10-17T07:44:46.140104Z"
    }
   },
   "outputs": [
    {
     "data": {
      "text/html": [
       "<div>\n",
       "<style>\n",
       "    .dataframe thead tr:only-child th {\n",
       "        text-align: right;\n",
       "    }\n",
       "\n",
       "    .dataframe thead th {\n",
       "        text-align: left;\n",
       "    }\n",
       "\n",
       "    .dataframe tbody tr th {\n",
       "        vertical-align: top;\n",
       "    }\n",
       "</style>\n",
       "<table border=\"1\" class=\"dataframe\">\n",
       "  <thead>\n",
       "    <tr style=\"text-align: right;\">\n",
       "      <th></th>\n",
       "      <th></th>\n",
       "      <th>hit_rate</th>\n",
       "      <th>n_hits</th>\n",
       "      <th>n_searches</th>\n",
       "      <th>n_stops</th>\n",
       "      <th>search_rate</th>\n",
       "    </tr>\n",
       "    <tr>\n",
       "      <th>driver_race</th>\n",
       "      <th></th>\n",
       "      <th></th>\n",
       "      <th></th>\n",
       "      <th></th>\n",
       "      <th></th>\n",
       "      <th></th>\n",
       "    </tr>\n",
       "  </thead>\n",
       "  <tbody>\n",
       "    <tr>\n",
       "      <th>Asian</th>\n",
       "      <th>0</th>\n",
       "      <td>0.470817</td>\n",
       "      <td>121</td>\n",
       "      <td>257</td>\n",
       "      <td>24577</td>\n",
       "      <td>0.010457</td>\n",
       "    </tr>\n",
       "    <tr>\n",
       "      <th>Black</th>\n",
       "      <th>0</th>\n",
       "      <td>0.477574</td>\n",
       "      <td>1299</td>\n",
       "      <td>2720</td>\n",
       "      <td>56050</td>\n",
       "      <td>0.048528</td>\n",
       "    </tr>\n",
       "    <tr>\n",
       "      <th>Hispanic</th>\n",
       "      <th>0</th>\n",
       "      <td>0.415741</td>\n",
       "      <td>449</td>\n",
       "      <td>1080</td>\n",
       "      <td>35210</td>\n",
       "      <td>0.030673</td>\n",
       "    </tr>\n",
       "    <tr>\n",
       "      <th>Other</th>\n",
       "      <th>0</th>\n",
       "      <td>0.509709</td>\n",
       "      <td>210</td>\n",
       "      <td>412</td>\n",
       "      <td>11361</td>\n",
       "      <td>0.036264</td>\n",
       "    </tr>\n",
       "    <tr>\n",
       "      <th>White</th>\n",
       "      <th>0</th>\n",
       "      <td>0.526300</td>\n",
       "      <td>5103</td>\n",
       "      <td>9696</td>\n",
       "      <td>778227</td>\n",
       "      <td>0.012459</td>\n",
       "    </tr>\n",
       "  </tbody>\n",
       "</table>\n",
       "</div>"
      ],
      "text/plain": [
       "               hit_rate  n_hits  n_searches  n_stops  search_rate\n",
       "driver_race                                                      \n",
       "Asian       0  0.470817     121         257    24577     0.010457\n",
       "Black       0  0.477574    1299        2720    56050     0.048528\n",
       "Hispanic    0  0.415741     449        1080    35210     0.030673\n",
       "Other       0  0.509709     210         412    11361     0.036264\n",
       "White       0  0.526300    5103        9696   778227     0.012459"
      ]
     },
     "execution_count": 94,
     "metadata": {},
     "output_type": "execute_result"
    }
   ],
   "source": [
    "df_wi.groupby('driver_race').apply(compute_search_stats)"
   ]
  },
  {
   "cell_type": "code",
   "execution_count": 82,
   "metadata": {
    "ExecuteTime": {
     "end_time": "2017-10-17T07:28:34.446686Z",
     "start_time": "2017-10-17T07:28:29.152976Z"
    }
   },
   "outputs": [
    {
     "data": {
      "image/png": "[encoded data removed]",
      "text/plain": [
       "<matplotlib.figure.Figure at 0x10ad6a5c0>"
      ]
     },
     "metadata": {},
     "output_type": "display_data"
    }
   ],
   "source": [
    "visualize_search_stats_by_county(df_wi)"
   ]
  },
  {
   "cell_type": "code",
   "execution_count": 92,
   "metadata": {
    "ExecuteTime": {
     "end_time": "2017-10-17T07:44:14.507343Z",
     "start_time": "2017-10-17T07:44:14.504042Z"
    }
   },
   "outputs": [],
   "source": [
    "#compute_white_vs_minority_hit_rate(df_wi)"
   ]
  },
  {
   "cell_type": "markdown",
   "metadata": {
    "ExecuteTime": {
     "end_time": "2017-10-14T09:25:54.323570Z",
     "start_time": "2017-10-14T09:25:38.207Z"
    }
   },
   "source": [
    "# MA"
   ]
  },
  {
   "cell_type": "code",
   "execution_count": 83,
   "metadata": {
    "ExecuteTime": {
     "end_time": "2017-10-17T07:29:13.411314Z",
     "start_time": "2017-10-17T07:28:59.160606Z"
    }
   },
   "outputs": [],
   "source": [
    "df_ma = pd.read_csv('./data/MA-clean.csv.gz', compression='gzip', low_memory=False, usecols=fields)"
   ]
  },
  {
   "cell_type": "code",
   "execution_count": 84,
   "metadata": {
    "ExecuteTime": {
     "end_time": "2017-10-17T07:29:14.526562Z",
     "start_time": "2017-10-17T07:29:13.418060Z"
    }
   },
   "outputs": [],
   "source": [
    "df_ma.dropna(inplace=True)"
   ]
  },
  {
   "cell_type": "code",
   "execution_count": 89,
   "metadata": {
    "ExecuteTime": {
     "end_time": "2017-10-17T07:34:18.151383Z",
     "start_time": "2017-10-17T07:33:47.633233Z"
    }
   },
   "outputs": [
    {
     "data": {
      "text/html": [
       "<div>\n",
       "<style>\n",
       "    .dataframe thead tr:only-child th {\n",
       "        text-align: right;\n",
       "    }\n",
       "\n",
       "    .dataframe thead th {\n",
       "        text-align: left;\n",
       "    }\n",
       "\n",
       "    .dataframe tbody tr th {\n",
       "        vertical-align: top;\n",
       "    }\n",
       "</style>\n",
       "<table border=\"1\" class=\"dataframe\">\n",
       "  <thead>\n",
       "    <tr style=\"text-align: right;\">\n",
       "      <th></th>\n",
       "      <th></th>\n",
       "      <th>hit_rate</th>\n",
       "      <th>n_hits</th>\n",
       "      <th>n_searches</th>\n",
       "      <th>n_stops</th>\n",
       "      <th>search_rate</th>\n",
       "    </tr>\n",
       "    <tr>\n",
       "      <th>driver_race</th>\n",
       "      <th></th>\n",
       "      <th></th>\n",
       "      <th></th>\n",
       "      <th></th>\n",
       "      <th></th>\n",
       "      <th></th>\n",
       "    </tr>\n",
       "  </thead>\n",
       "  <tbody>\n",
       "    <tr>\n",
       "      <th>Asian</th>\n",
       "      <th>0</th>\n",
       "      <td>0.331169</td>\n",
       "      <td>357</td>\n",
       "      <td>1078</td>\n",
       "      <td>101942</td>\n",
       "      <td>0.010575</td>\n",
       "    </tr>\n",
       "    <tr>\n",
       "      <th>Black</th>\n",
       "      <th>0</th>\n",
       "      <td>0.487150</td>\n",
       "      <td>4170</td>\n",
       "      <td>8560</td>\n",
       "      <td>350498</td>\n",
       "      <td>0.024422</td>\n",
       "    </tr>\n",
       "    <tr>\n",
       "      <th>Hispanic</th>\n",
       "      <th>0</th>\n",
       "      <td>0.449502</td>\n",
       "      <td>5007</td>\n",
       "      <td>11139</td>\n",
       "      <td>337782</td>\n",
       "      <td>0.032977</td>\n",
       "    </tr>\n",
       "    <tr>\n",
       "      <th>Other</th>\n",
       "      <th>0</th>\n",
       "      <td>0.358442</td>\n",
       "      <td>276</td>\n",
       "      <td>770</td>\n",
       "      <td>75370</td>\n",
       "      <td>0.010216</td>\n",
       "    </tr>\n",
       "    <tr>\n",
       "      <th>White</th>\n",
       "      <th>0</th>\n",
       "      <td>0.523037</td>\n",
       "      <td>18220</td>\n",
       "      <td>34835</td>\n",
       "      <td>2527393</td>\n",
       "      <td>0.013783</td>\n",
       "    </tr>\n",
       "  </tbody>\n",
       "</table>\n",
       "</div>"
      ],
      "text/plain": [
       "               hit_rate  n_hits  n_searches  n_stops  search_rate\n",
       "driver_race                                                      \n",
       "Asian       0  0.331169     357        1078   101942     0.010575\n",
       "Black       0  0.487150    4170        8560   350498     0.024422\n",
       "Hispanic    0  0.449502    5007       11139   337782     0.032977\n",
       "Other       0  0.358442     276         770    75370     0.010216\n",
       "White       0  0.523037   18220       34835  2527393     0.013783"
      ]
     },
     "execution_count": 89,
     "metadata": {},
     "output_type": "execute_result"
    }
   ],
   "source": [
    "df_ma.groupby('driver_race').apply(compute_search_stats)"
   ]
  },
  {
   "cell_type": "code",
   "execution_count": 85,
   "metadata": {
    "ExecuteTime": {
     "end_time": "2017-10-17T07:29:42.893084Z",
     "start_time": "2017-10-17T07:29:14.531959Z"
    }
   },
   "outputs": [
    {
     "data": {
      "image/png": "[encoded data removed]",
      "text/plain": [
       "<matplotlib.figure.Figure at 0x1094f6f98>"
      ]
     },
     "metadata": {},
     "output_type": "display_data"
    }
   ],
   "source": [
    " "
   ]
  },
  {
   "cell_type": "code",
   "execution_count": 86,
   "metadata": {
    "ExecuteTime": {
     "end_time": "2017-10-17T07:29:42.904861Z",
     "start_time": "2017-10-17T07:29:42.896607Z"
    }
   },
   "outputs": [],
   "source": [
    "# visualize_county_hit_rates(df_ma)"
   ]
  },
  {
   "cell_type": "code",
   "execution_count": 87,
   "metadata": {
    "ExecuteTime": {
     "end_time": "2017-10-17T07:29:42.912231Z",
     "start_time": "2017-10-17T07:29:42.907612Z"
    }
   },
   "outputs": [],
   "source": [
    "# compute_white_vs_minority_hit_rate(df_ma)"
   ]
  },
  {
   "cell_type": "code",
   "execution_count": 233,
   "metadata": {
    "ExecuteTime": {
     "end_time": "2017-10-15T04:15:34.564485Z",
     "start_time": "2017-10-15T04:15:10.053713Z"
    }
   },
   "outputs": [],
   "source": [
    "df_ma_tmp = df_ma.copy()\n",
    "df_ma_tmp['is_white'] = df_ma_tmp['driver_race'] == 'White'\n",
    "race_location_agg = df_ma_tmp.groupby(['county_name','is_white']).apply(compute_hit_rate)"
   ]
  },
  {
   "cell_type": "code",
   "execution_count": 240,
   "metadata": {
    "ExecuteTime": {
     "end_time": "2017-10-15T04:16:34.812647Z",
     "start_time": "2017-10-15T04:16:34.805164Z"
    }
   },
   "outputs": [
    {
     "data": {
      "text/plain": [
       "hit_rate          0.348592\n",
       "n_hits           99.000000\n",
       "n_searches      284.000000\n",
       "n_stops        9750.000000\n",
       "search_rate       0.029128\n",
       "Name: (Barnstable County, False, 0), dtype: float64"
      ]
     },
     "execution_count": 240,
     "metadata": {},
     "output_type": "execute_result"
    }
   ],
   "source": [
    "race_location_agg.iloc[0]"
   ]
  },
  {
   "cell_type": "code",
   "execution_count": 335,
   "metadata": {
    "ExecuteTime": {
     "end_time": "2017-10-15T04:50:31.445775Z",
     "start_time": "2017-10-15T04:50:31.409674Z"
    }
   },
   "outputs": [],
   "source": [
    "def compute_bad_search_rates(df):\n",
    "    \"\"\"Compute what percentage of stops will result in a search where no contraband is found\"\"\"\n",
    "    df_tmp = df.copy()\n",
    "    df_tmp['is_white'] = df_tmp['driver_race'] == 'White'\n",
    "    race_location_agg = df_tmp.groupby(['county_name','is_white']).apply(compute_hit_rate)    \n",
    "    county_dict = {}\n",
    "    for index in range(0, len(race_location_agg), 2):\n",
    "        non_white_row = race_location_agg.iloc[index]\n",
    "        white_row = race_location_agg.iloc[index+1]\n",
    "        county = race_location_agg.iloc[index].name[0]\n",
    "\n",
    "        white_bad_search_rate = (white_row.n_searches - white_row.n_hits) / white_row.n_stops\n",
    "        non_white_bad_search_rate = (non_white_row.n_searches - non_white_row.n_hits) / non_white_row.n_stops\n",
    "\n",
    "        county_dict[county] = dict(\n",
    "            bias = non_white_bad_search_rate/ white_bad_search_rate,\n",
    "            white = white_bad_search_rate,\n",
    "            non_white = non_white_bad_search_rate)\n",
    "    return county_dict"
   ]
  },
  {
   "cell_type": "code",
   "execution_count": 336,
   "metadata": {
    "ExecuteTime": {
     "end_time": "2017-10-15T04:51:00.664270Z",
     "start_time": "2017-10-15T04:50:32.618926Z"
    }
   },
   "outputs": [],
   "source": [
    "ma_county_data = compute_bad_search_rates(df_ma)"
   ]
  },
  {
   "cell_type": "code",
   "execution_count": 339,
   "metadata": {
    "ExecuteTime": {
     "end_time": "2017-10-15T04:51:32.213444Z",
     "start_time": "2017-10-15T04:51:32.196218Z"
    }
   },
   "outputs": [],
   "source": [
    "ma_county_df = pd.DataFrame.from_dict(ma_county_data, orient='index')"
   ]
  },
  {
   "cell_type": "code",
   "execution_count": 342,
   "metadata": {
    "ExecuteTime": {
     "end_time": "2017-10-15T04:52:03.248236Z",
     "start_time": "2017-10-15T04:52:03.232663Z"
    }
   },
   "outputs": [],
   "source": [
    "ma_county_df.to_csv('ma_county_stats.csv')"
   ]
  },
  {
   "cell_type": "code",
   "execution_count": null,
   "metadata": {},
   "outputs": [],
   "source": []
  }
 ],
 "metadata": {
  "kernelspec": {
   "display_name": "Python 3",
   "language": "python",
   "name": "python3"
  },
  "language_info": {
   "codemirror_mode": {
    "name": "ipython",
    "version": 3
   },
   "file_extension": ".py",
   "mimetype": "text/x-python",
   "name": "python",
   "nbconvert_exporter": "python",
   "pygments_lexer": "ipython3",
   "version": "3.6.2"
  },
  "toc": {
   "nav_menu": {},
   "number_sections": true,
   "sideBar": true,
   "skip_h1_title": false,
   "toc_cell": false,
   "toc_position": {},
   "toc_section_display": "block",
   "toc_window_display": false
  }
 },
 "nbformat": 4,
 "nbformat_minor": 2
}
